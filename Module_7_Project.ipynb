{
  "nbformat": 4,
  "nbformat_minor": 0,
  "metadata": {
    "colab": {
      "provenance": [],
      "include_colab_link": true
    },
    "kernelspec": {
      "name": "python3",
      "display_name": "Python 3"
    },
    "language_info": {
      "name": "python"
    }
  },
  "cells": [
    {
      "cell_type": "markdown",
      "metadata": {
        "id": "view-in-github",
        "colab_type": "text"
      },
      "source": [
        "<a href=\"https://colab.research.google.com/github/Jo9gi/FMML-ASSIGNMENTS/blob/main/Module_7_Project.ipynb\" target=\"_parent\"><img src=\"https://colab.research.google.com/assets/colab-badge.svg\" alt=\"Open In Colab\"/></a>"
      ]
    },
    {
      "cell_type": "markdown",
      "metadata": {
        "id": "O6WbuhKIaj8v"
      },
      "source": [
        "#Module 7 Project: Movie Recommendation Engine"
      ]
    },
    {
      "cell_type": "markdown",
      "source": [
        "`Module Coordinator: Nikunj Nawal`"
      ],
      "metadata": {
        "id": "nY0Fv5ynQ03G"
      }
    },
    {
      "cell_type": "markdown",
      "source": [
        "In this module, we will try to create a Movie Recommendation System using different unsupervised learning techniques."
      ],
      "metadata": {
        "id": "yb8Th0QVRLWU"
      }
    },
    {
      "cell_type": "code",
      "metadata": {
        "colab": {
          "base_uri": "https://localhost:8080/"
        },
        "id": "ZMBdXlbjbEf4",
        "outputId": "95e124ce-6b42-424b-881d-9bb5be48eed6"
      },
      "source": [
        "# dataset download\n",
        "\n",
        "# !wget https://files.grouplens.org/datasets/movielens/ml-100k.zip\n",
        "!wget https://files.grouplens.org/datasets/movielens/ml-latest-small.zip\n",
        "!unzip ml-latest-small.zip"
      ],
      "execution_count": 1,
      "outputs": [
        {
          "output_type": "stream",
          "name": "stdout",
          "text": [
            "--2023-03-23 12:57:22--  https://files.grouplens.org/datasets/movielens/ml-latest-small.zip\n",
            "Resolving files.grouplens.org (files.grouplens.org)... 128.101.65.152\n",
            "Connecting to files.grouplens.org (files.grouplens.org)|128.101.65.152|:443... connected.\n",
            "HTTP request sent, awaiting response... 200 OK\n",
            "Length: 978202 (955K) [application/zip]\n",
            "Saving to: ‘ml-latest-small.zip’\n",
            "\n",
            "ml-latest-small.zip 100%[===================>] 955.28K  1.53MB/s    in 0.6s    \n",
            "\n",
            "2023-03-23 12:57:23 (1.53 MB/s) - ‘ml-latest-small.zip’ saved [978202/978202]\n",
            "\n",
            "Archive:  ml-latest-small.zip\n",
            "   creating: ml-latest-small/\n",
            "  inflating: ml-latest-small/links.csv  \n",
            "  inflating: ml-latest-small/tags.csv  \n",
            "  inflating: ml-latest-small/ratings.csv  \n",
            "  inflating: ml-latest-small/README.txt  \n",
            "  inflating: ml-latest-small/movies.csv  \n"
          ]
        }
      ]
    },
    {
      "cell_type": "markdown",
      "metadata": {
        "id": "ZUjEAuW0eHbZ"
      },
      "source": [
        "## Clustering based recommendation"
      ]
    },
    {
      "cell_type": "code",
      "metadata": {
        "id": "HtuurMa5aeiX"
      },
      "source": [
        "# Import Libraries\n",
        "import pandas as pd\n",
        "import matplotlib.pyplot as plt\n",
        "import numpy as np\n",
        "from scipy.sparse import csr_matrix\n",
        "from mpl_toolkits.axes_grid1 import make_axes_locatable\n",
        "from sklearn.cluster import KMeans\n",
        "from sklearn.metrics import mean_squared_error\n",
        "import itertools\n",
        "from sklearn.metrics import silhouette_samples, silhouette_score"
      ],
      "execution_count": 2,
      "outputs": []
    },
    {
      "cell_type": "code",
      "metadata": {
        "colab": {
          "base_uri": "https://localhost:8080/",
          "height": 206
        },
        "id": "iZ1H-jLmcT49",
        "outputId": "1f21f91e-f5ac-45cb-d3e5-2c56681bacdb"
      },
      "source": [
        "# Import the Movies dataset\n",
        "movies = pd.read_csv('ml-latest-small/movies.csv')\n",
        "movies.head()"
      ],
      "execution_count": 3,
      "outputs": [
        {
          "output_type": "execute_result",
          "data": {
            "text/plain": [
              "   movieId                               title  \\\n",
              "0        1                    Toy Story (1995)   \n",
              "1        2                      Jumanji (1995)   \n",
              "2        3             Grumpier Old Men (1995)   \n",
              "3        4            Waiting to Exhale (1995)   \n",
              "4        5  Father of the Bride Part II (1995)   \n",
              "\n",
              "                                        genres  \n",
              "0  Adventure|Animation|Children|Comedy|Fantasy  \n",
              "1                   Adventure|Children|Fantasy  \n",
              "2                               Comedy|Romance  \n",
              "3                         Comedy|Drama|Romance  \n",
              "4                                       Comedy  "
            ],
            "text/html": [
              "\n",
              "  <div id=\"df-f6229598-5d11-49a3-a137-9368119990ae\">\n",
              "    <div class=\"colab-df-container\">\n",
              "      <div>\n",
              "<style scoped>\n",
              "    .dataframe tbody tr th:only-of-type {\n",
              "        vertical-align: middle;\n",
              "    }\n",
              "\n",
              "    .dataframe tbody tr th {\n",
              "        vertical-align: top;\n",
              "    }\n",
              "\n",
              "    .dataframe thead th {\n",
              "        text-align: right;\n",
              "    }\n",
              "</style>\n",
              "<table border=\"1\" class=\"dataframe\">\n",
              "  <thead>\n",
              "    <tr style=\"text-align: right;\">\n",
              "      <th></th>\n",
              "      <th>movieId</th>\n",
              "      <th>title</th>\n",
              "      <th>genres</th>\n",
              "    </tr>\n",
              "  </thead>\n",
              "  <tbody>\n",
              "    <tr>\n",
              "      <th>0</th>\n",
              "      <td>1</td>\n",
              "      <td>Toy Story (1995)</td>\n",
              "      <td>Adventure|Animation|Children|Comedy|Fantasy</td>\n",
              "    </tr>\n",
              "    <tr>\n",
              "      <th>1</th>\n",
              "      <td>2</td>\n",
              "      <td>Jumanji (1995)</td>\n",
              "      <td>Adventure|Children|Fantasy</td>\n",
              "    </tr>\n",
              "    <tr>\n",
              "      <th>2</th>\n",
              "      <td>3</td>\n",
              "      <td>Grumpier Old Men (1995)</td>\n",
              "      <td>Comedy|Romance</td>\n",
              "    </tr>\n",
              "    <tr>\n",
              "      <th>3</th>\n",
              "      <td>4</td>\n",
              "      <td>Waiting to Exhale (1995)</td>\n",
              "      <td>Comedy|Drama|Romance</td>\n",
              "    </tr>\n",
              "    <tr>\n",
              "      <th>4</th>\n",
              "      <td>5</td>\n",
              "      <td>Father of the Bride Part II (1995)</td>\n",
              "      <td>Comedy</td>\n",
              "    </tr>\n",
              "  </tbody>\n",
              "</table>\n",
              "</div>\n",
              "      <button class=\"colab-df-convert\" onclick=\"convertToInteractive('df-f6229598-5d11-49a3-a137-9368119990ae')\"\n",
              "              title=\"Convert this dataframe to an interactive table.\"\n",
              "              style=\"display:none;\">\n",
              "        \n",
              "  <svg xmlns=\"http://www.w3.org/2000/svg\" height=\"24px\"viewBox=\"0 0 24 24\"\n",
              "       width=\"24px\">\n",
              "    <path d=\"M0 0h24v24H0V0z\" fill=\"none\"/>\n",
              "    <path d=\"M18.56 5.44l.94 2.06.94-2.06 2.06-.94-2.06-.94-.94-2.06-.94 2.06-2.06.94zm-11 1L8.5 8.5l.94-2.06 2.06-.94-2.06-.94L8.5 2.5l-.94 2.06-2.06.94zm10 10l.94 2.06.94-2.06 2.06-.94-2.06-.94-.94-2.06-.94 2.06-2.06.94z\"/><path d=\"M17.41 7.96l-1.37-1.37c-.4-.4-.92-.59-1.43-.59-.52 0-1.04.2-1.43.59L10.3 9.45l-7.72 7.72c-.78.78-.78 2.05 0 2.83L4 21.41c.39.39.9.59 1.41.59.51 0 1.02-.2 1.41-.59l7.78-7.78 2.81-2.81c.8-.78.8-2.07 0-2.86zM5.41 20L4 18.59l7.72-7.72 1.47 1.35L5.41 20z\"/>\n",
              "  </svg>\n",
              "      </button>\n",
              "      \n",
              "  <style>\n",
              "    .colab-df-container {\n",
              "      display:flex;\n",
              "      flex-wrap:wrap;\n",
              "      gap: 12px;\n",
              "    }\n",
              "\n",
              "    .colab-df-convert {\n",
              "      background-color: #E8F0FE;\n",
              "      border: none;\n",
              "      border-radius: 50%;\n",
              "      cursor: pointer;\n",
              "      display: none;\n",
              "      fill: #1967D2;\n",
              "      height: 32px;\n",
              "      padding: 0 0 0 0;\n",
              "      width: 32px;\n",
              "    }\n",
              "\n",
              "    .colab-df-convert:hover {\n",
              "      background-color: #E2EBFA;\n",
              "      box-shadow: 0px 1px 2px rgba(60, 64, 67, 0.3), 0px 1px 3px 1px rgba(60, 64, 67, 0.15);\n",
              "      fill: #174EA6;\n",
              "    }\n",
              "\n",
              "    [theme=dark] .colab-df-convert {\n",
              "      background-color: #3B4455;\n",
              "      fill: #D2E3FC;\n",
              "    }\n",
              "\n",
              "    [theme=dark] .colab-df-convert:hover {\n",
              "      background-color: #434B5C;\n",
              "      box-shadow: 0px 1px 3px 1px rgba(0, 0, 0, 0.15);\n",
              "      filter: drop-shadow(0px 1px 2px rgba(0, 0, 0, 0.3));\n",
              "      fill: #FFFFFF;\n",
              "    }\n",
              "  </style>\n",
              "\n",
              "      <script>\n",
              "        const buttonEl =\n",
              "          document.querySelector('#df-f6229598-5d11-49a3-a137-9368119990ae button.colab-df-convert');\n",
              "        buttonEl.style.display =\n",
              "          google.colab.kernel.accessAllowed ? 'block' : 'none';\n",
              "\n",
              "        async function convertToInteractive(key) {\n",
              "          const element = document.querySelector('#df-f6229598-5d11-49a3-a137-9368119990ae');\n",
              "          const dataTable =\n",
              "            await google.colab.kernel.invokeFunction('convertToInteractive',\n",
              "                                                     [key], {});\n",
              "          if (!dataTable) return;\n",
              "\n",
              "          const docLinkHtml = 'Like what you see? Visit the ' +\n",
              "            '<a target=\"_blank\" href=https://colab.research.google.com/notebooks/data_table.ipynb>data table notebook</a>'\n",
              "            + ' to learn more about interactive tables.';\n",
              "          element.innerHTML = '';\n",
              "          dataTable['output_type'] = 'display_data';\n",
              "          await google.colab.output.renderOutput(dataTable, element);\n",
              "          const docLink = document.createElement('div');\n",
              "          docLink.innerHTML = docLinkHtml;\n",
              "          element.appendChild(docLink);\n",
              "        }\n",
              "      </script>\n",
              "    </div>\n",
              "  </div>\n",
              "  "
            ]
          },
          "metadata": {},
          "execution_count": 3
        }
      ]
    },
    {
      "cell_type": "code",
      "metadata": {
        "colab": {
          "base_uri": "https://localhost:8080/",
          "height": 206
        },
        "id": "5dBSzAp5cW5w",
        "outputId": "59ff1ae0-1e72-4e6c-d9fe-9c2d1c059cf0"
      },
      "source": [
        "# Import the ratings dataset\n",
        "ratings = pd.read_csv('ml-latest-small/ratings.csv')\n",
        "ratings.head()"
      ],
      "execution_count": 4,
      "outputs": [
        {
          "output_type": "execute_result",
          "data": {
            "text/plain": [
              "   userId  movieId  rating  timestamp\n",
              "0       1        1     4.0  964982703\n",
              "1       1        3     4.0  964981247\n",
              "2       1        6     4.0  964982224\n",
              "3       1       47     5.0  964983815\n",
              "4       1       50     5.0  964982931"
            ],
            "text/html": [
              "\n",
              "  <div id=\"df-16370854-6698-4c22-a95e-d84ac9732978\">\n",
              "    <div class=\"colab-df-container\">\n",
              "      <div>\n",
              "<style scoped>\n",
              "    .dataframe tbody tr th:only-of-type {\n",
              "        vertical-align: middle;\n",
              "    }\n",
              "\n",
              "    .dataframe tbody tr th {\n",
              "        vertical-align: top;\n",
              "    }\n",
              "\n",
              "    .dataframe thead th {\n",
              "        text-align: right;\n",
              "    }\n",
              "</style>\n",
              "<table border=\"1\" class=\"dataframe\">\n",
              "  <thead>\n",
              "    <tr style=\"text-align: right;\">\n",
              "      <th></th>\n",
              "      <th>userId</th>\n",
              "      <th>movieId</th>\n",
              "      <th>rating</th>\n",
              "      <th>timestamp</th>\n",
              "    </tr>\n",
              "  </thead>\n",
              "  <tbody>\n",
              "    <tr>\n",
              "      <th>0</th>\n",
              "      <td>1</td>\n",
              "      <td>1</td>\n",
              "      <td>4.0</td>\n",
              "      <td>964982703</td>\n",
              "    </tr>\n",
              "    <tr>\n",
              "      <th>1</th>\n",
              "      <td>1</td>\n",
              "      <td>3</td>\n",
              "      <td>4.0</td>\n",
              "      <td>964981247</td>\n",
              "    </tr>\n",
              "    <tr>\n",
              "      <th>2</th>\n",
              "      <td>1</td>\n",
              "      <td>6</td>\n",
              "      <td>4.0</td>\n",
              "      <td>964982224</td>\n",
              "    </tr>\n",
              "    <tr>\n",
              "      <th>3</th>\n",
              "      <td>1</td>\n",
              "      <td>47</td>\n",
              "      <td>5.0</td>\n",
              "      <td>964983815</td>\n",
              "    </tr>\n",
              "    <tr>\n",
              "      <th>4</th>\n",
              "      <td>1</td>\n",
              "      <td>50</td>\n",
              "      <td>5.0</td>\n",
              "      <td>964982931</td>\n",
              "    </tr>\n",
              "  </tbody>\n",
              "</table>\n",
              "</div>\n",
              "      <button class=\"colab-df-convert\" onclick=\"convertToInteractive('df-16370854-6698-4c22-a95e-d84ac9732978')\"\n",
              "              title=\"Convert this dataframe to an interactive table.\"\n",
              "              style=\"display:none;\">\n",
              "        \n",
              "  <svg xmlns=\"http://www.w3.org/2000/svg\" height=\"24px\"viewBox=\"0 0 24 24\"\n",
              "       width=\"24px\">\n",
              "    <path d=\"M0 0h24v24H0V0z\" fill=\"none\"/>\n",
              "    <path d=\"M18.56 5.44l.94 2.06.94-2.06 2.06-.94-2.06-.94-.94-2.06-.94 2.06-2.06.94zm-11 1L8.5 8.5l.94-2.06 2.06-.94-2.06-.94L8.5 2.5l-.94 2.06-2.06.94zm10 10l.94 2.06.94-2.06 2.06-.94-2.06-.94-.94-2.06-.94 2.06-2.06.94z\"/><path d=\"M17.41 7.96l-1.37-1.37c-.4-.4-.92-.59-1.43-.59-.52 0-1.04.2-1.43.59L10.3 9.45l-7.72 7.72c-.78.78-.78 2.05 0 2.83L4 21.41c.39.39.9.59 1.41.59.51 0 1.02-.2 1.41-.59l7.78-7.78 2.81-2.81c.8-.78.8-2.07 0-2.86zM5.41 20L4 18.59l7.72-7.72 1.47 1.35L5.41 20z\"/>\n",
              "  </svg>\n",
              "      </button>\n",
              "      \n",
              "  <style>\n",
              "    .colab-df-container {\n",
              "      display:flex;\n",
              "      flex-wrap:wrap;\n",
              "      gap: 12px;\n",
              "    }\n",
              "\n",
              "    .colab-df-convert {\n",
              "      background-color: #E8F0FE;\n",
              "      border: none;\n",
              "      border-radius: 50%;\n",
              "      cursor: pointer;\n",
              "      display: none;\n",
              "      fill: #1967D2;\n",
              "      height: 32px;\n",
              "      padding: 0 0 0 0;\n",
              "      width: 32px;\n",
              "    }\n",
              "\n",
              "    .colab-df-convert:hover {\n",
              "      background-color: #E2EBFA;\n",
              "      box-shadow: 0px 1px 2px rgba(60, 64, 67, 0.3), 0px 1px 3px 1px rgba(60, 64, 67, 0.15);\n",
              "      fill: #174EA6;\n",
              "    }\n",
              "\n",
              "    [theme=dark] .colab-df-convert {\n",
              "      background-color: #3B4455;\n",
              "      fill: #D2E3FC;\n",
              "    }\n",
              "\n",
              "    [theme=dark] .colab-df-convert:hover {\n",
              "      background-color: #434B5C;\n",
              "      box-shadow: 0px 1px 3px 1px rgba(0, 0, 0, 0.15);\n",
              "      filter: drop-shadow(0px 1px 2px rgba(0, 0, 0, 0.3));\n",
              "      fill: #FFFFFF;\n",
              "    }\n",
              "  </style>\n",
              "\n",
              "      <script>\n",
              "        const buttonEl =\n",
              "          document.querySelector('#df-16370854-6698-4c22-a95e-d84ac9732978 button.colab-df-convert');\n",
              "        buttonEl.style.display =\n",
              "          google.colab.kernel.accessAllowed ? 'block' : 'none';\n",
              "\n",
              "        async function convertToInteractive(key) {\n",
              "          const element = document.querySelector('#df-16370854-6698-4c22-a95e-d84ac9732978');\n",
              "          const dataTable =\n",
              "            await google.colab.kernel.invokeFunction('convertToInteractive',\n",
              "                                                     [key], {});\n",
              "          if (!dataTable) return;\n",
              "\n",
              "          const docLinkHtml = 'Like what you see? Visit the ' +\n",
              "            '<a target=\"_blank\" href=https://colab.research.google.com/notebooks/data_table.ipynb>data table notebook</a>'\n",
              "            + ' to learn more about interactive tables.';\n",
              "          element.innerHTML = '';\n",
              "          dataTable['output_type'] = 'display_data';\n",
              "          await google.colab.output.renderOutput(dataTable, element);\n",
              "          const docLink = document.createElement('div');\n",
              "          docLink.innerHTML = docLinkHtml;\n",
              "          element.appendChild(docLink);\n",
              "        }\n",
              "      </script>\n",
              "    </div>\n",
              "  </div>\n",
              "  "
            ]
          },
          "metadata": {},
          "execution_count": 4
        }
      ]
    },
    {
      "cell_type": "code",
      "metadata": {
        "colab": {
          "base_uri": "https://localhost:8080/"
        },
        "id": "mRRxx1bVcZAr",
        "outputId": "9538ea72-aef2-4e15-a2b8-355c4410070b"
      },
      "source": [
        "# Print the number of records and the total number of movies\n",
        "print('The dataset contains: ', len(ratings), ' ratings of ', len(movies), ' movies.')"
      ],
      "execution_count": 5,
      "outputs": [
        {
          "output_type": "stream",
          "name": "stdout",
          "text": [
            "The dataset contains:  100836  ratings of  9742  movies.\n"
          ]
        }
      ]
    },
    {
      "cell_type": "markdown",
      "metadata": {
        "id": "Ec8LbfpxcfyB"
      },
      "source": [
        "### Romance versus Science Fiction\n",
        "\n",
        "We will start by considering a subset of users and discovering what are their favourite genre. We will do this by defining a function that will calculate each user’s average rating for all science fiction and romance movies."
      ]
    },
    {
      "cell_type": "code",
      "metadata": {
        "colab": {
          "base_uri": "https://localhost:8080/",
          "height": 206
        },
        "id": "ZEiAml47ca7O",
        "outputId": "3deaa8c9-0507-499f-e3af-bb5b6a681011"
      },
      "source": [
        "# Function to get the genre ratings\n",
        "def get_genre_ratings(ratings, movies, genres, column_names):\n",
        "    genre_ratings = pd.DataFrame()\n",
        "    for genre in genres:        \n",
        "        genre_movies = movies[movies['genres'].str.contains(genre) ]\n",
        "        avg_genre_votes_per_user = ratings[ratings['movieId'].isin(genre_movies['movieId'])].loc[:, ['userId', 'rating']].groupby(['userId'])['rating'].mean().round(2)\n",
        "        \n",
        "        genre_ratings = pd.concat([genre_ratings, avg_genre_votes_per_user], axis=1)\n",
        "        \n",
        "    genre_ratings.columns = column_names\n",
        "    return genre_ratings# Calculate the average rating of romance and scifi movies\n",
        "genre_ratings = get_genre_ratings(ratings, movies, ['Romance', 'Sci-Fi'], ['avg_romance_rating', 'avg_scifi_rating'])\n",
        "genre_ratings.head()"
      ],
      "execution_count": 6,
      "outputs": [
        {
          "output_type": "execute_result",
          "data": {
            "text/plain": [
              "   avg_romance_rating  avg_scifi_rating\n",
              "1                4.31              4.22\n",
              "2                4.50              3.88\n",
              "3                0.50              4.20\n",
              "4                3.38              2.83\n",
              "5                3.09              2.50"
            ],
            "text/html": [
              "\n",
              "  <div id=\"df-61d8d9dc-40e4-4831-ba3f-7a45323c8870\">\n",
              "    <div class=\"colab-df-container\">\n",
              "      <div>\n",
              "<style scoped>\n",
              "    .dataframe tbody tr th:only-of-type {\n",
              "        vertical-align: middle;\n",
              "    }\n",
              "\n",
              "    .dataframe tbody tr th {\n",
              "        vertical-align: top;\n",
              "    }\n",
              "\n",
              "    .dataframe thead th {\n",
              "        text-align: right;\n",
              "    }\n",
              "</style>\n",
              "<table border=\"1\" class=\"dataframe\">\n",
              "  <thead>\n",
              "    <tr style=\"text-align: right;\">\n",
              "      <th></th>\n",
              "      <th>avg_romance_rating</th>\n",
              "      <th>avg_scifi_rating</th>\n",
              "    </tr>\n",
              "  </thead>\n",
              "  <tbody>\n",
              "    <tr>\n",
              "      <th>1</th>\n",
              "      <td>4.31</td>\n",
              "      <td>4.22</td>\n",
              "    </tr>\n",
              "    <tr>\n",
              "      <th>2</th>\n",
              "      <td>4.50</td>\n",
              "      <td>3.88</td>\n",
              "    </tr>\n",
              "    <tr>\n",
              "      <th>3</th>\n",
              "      <td>0.50</td>\n",
              "      <td>4.20</td>\n",
              "    </tr>\n",
              "    <tr>\n",
              "      <th>4</th>\n",
              "      <td>3.38</td>\n",
              "      <td>2.83</td>\n",
              "    </tr>\n",
              "    <tr>\n",
              "      <th>5</th>\n",
              "      <td>3.09</td>\n",
              "      <td>2.50</td>\n",
              "    </tr>\n",
              "  </tbody>\n",
              "</table>\n",
              "</div>\n",
              "      <button class=\"colab-df-convert\" onclick=\"convertToInteractive('df-61d8d9dc-40e4-4831-ba3f-7a45323c8870')\"\n",
              "              title=\"Convert this dataframe to an interactive table.\"\n",
              "              style=\"display:none;\">\n",
              "        \n",
              "  <svg xmlns=\"http://www.w3.org/2000/svg\" height=\"24px\"viewBox=\"0 0 24 24\"\n",
              "       width=\"24px\">\n",
              "    <path d=\"M0 0h24v24H0V0z\" fill=\"none\"/>\n",
              "    <path d=\"M18.56 5.44l.94 2.06.94-2.06 2.06-.94-2.06-.94-.94-2.06-.94 2.06-2.06.94zm-11 1L8.5 8.5l.94-2.06 2.06-.94-2.06-.94L8.5 2.5l-.94 2.06-2.06.94zm10 10l.94 2.06.94-2.06 2.06-.94-2.06-.94-.94-2.06-.94 2.06-2.06.94z\"/><path d=\"M17.41 7.96l-1.37-1.37c-.4-.4-.92-.59-1.43-.59-.52 0-1.04.2-1.43.59L10.3 9.45l-7.72 7.72c-.78.78-.78 2.05 0 2.83L4 21.41c.39.39.9.59 1.41.59.51 0 1.02-.2 1.41-.59l7.78-7.78 2.81-2.81c.8-.78.8-2.07 0-2.86zM5.41 20L4 18.59l7.72-7.72 1.47 1.35L5.41 20z\"/>\n",
              "  </svg>\n",
              "      </button>\n",
              "      \n",
              "  <style>\n",
              "    .colab-df-container {\n",
              "      display:flex;\n",
              "      flex-wrap:wrap;\n",
              "      gap: 12px;\n",
              "    }\n",
              "\n",
              "    .colab-df-convert {\n",
              "      background-color: #E8F0FE;\n",
              "      border: none;\n",
              "      border-radius: 50%;\n",
              "      cursor: pointer;\n",
              "      display: none;\n",
              "      fill: #1967D2;\n",
              "      height: 32px;\n",
              "      padding: 0 0 0 0;\n",
              "      width: 32px;\n",
              "    }\n",
              "\n",
              "    .colab-df-convert:hover {\n",
              "      background-color: #E2EBFA;\n",
              "      box-shadow: 0px 1px 2px rgba(60, 64, 67, 0.3), 0px 1px 3px 1px rgba(60, 64, 67, 0.15);\n",
              "      fill: #174EA6;\n",
              "    }\n",
              "\n",
              "    [theme=dark] .colab-df-convert {\n",
              "      background-color: #3B4455;\n",
              "      fill: #D2E3FC;\n",
              "    }\n",
              "\n",
              "    [theme=dark] .colab-df-convert:hover {\n",
              "      background-color: #434B5C;\n",
              "      box-shadow: 0px 1px 3px 1px rgba(0, 0, 0, 0.15);\n",
              "      filter: drop-shadow(0px 1px 2px rgba(0, 0, 0, 0.3));\n",
              "      fill: #FFFFFF;\n",
              "    }\n",
              "  </style>\n",
              "\n",
              "      <script>\n",
              "        const buttonEl =\n",
              "          document.querySelector('#df-61d8d9dc-40e4-4831-ba3f-7a45323c8870 button.colab-df-convert');\n",
              "        buttonEl.style.display =\n",
              "          google.colab.kernel.accessAllowed ? 'block' : 'none';\n",
              "\n",
              "        async function convertToInteractive(key) {\n",
              "          const element = document.querySelector('#df-61d8d9dc-40e4-4831-ba3f-7a45323c8870');\n",
              "          const dataTable =\n",
              "            await google.colab.kernel.invokeFunction('convertToInteractive',\n",
              "                                                     [key], {});\n",
              "          if (!dataTable) return;\n",
              "\n",
              "          const docLinkHtml = 'Like what you see? Visit the ' +\n",
              "            '<a target=\"_blank\" href=https://colab.research.google.com/notebooks/data_table.ipynb>data table notebook</a>'\n",
              "            + ' to learn more about interactive tables.';\n",
              "          element.innerHTML = '';\n",
              "          dataTable['output_type'] = 'display_data';\n",
              "          await google.colab.output.renderOutput(dataTable, element);\n",
              "          const docLink = document.createElement('div');\n",
              "          docLink.innerHTML = docLinkHtml;\n",
              "          element.appendChild(docLink);\n",
              "        }\n",
              "      </script>\n",
              "    </div>\n",
              "  </div>\n",
              "  "
            ]
          },
          "metadata": {},
          "execution_count": 6
        }
      ]
    },
    {
      "cell_type": "markdown",
      "metadata": {
        "id": "79b5Uz3KcmSu"
      },
      "source": [
        "In order to have a more delimited subset of people to study, we are going to bias our grouping to only get ratings from those users that like either romance or science fiction movies."
      ]
    },
    {
      "cell_type": "code",
      "metadata": {
        "colab": {
          "base_uri": "https://localhost:8080/",
          "height": 223
        },
        "id": "AdiswAdbceds",
        "outputId": "23b2d2a9-73f2-4f56-a9b3-dbe882344fe8"
      },
      "source": [
        "# Function to get the biased dataset\n",
        "def bias_genre_rating_dataset(genre_ratings, score_limit_1, score_limit_2):\n",
        "    biased_dataset =    genre_ratings[((genre_ratings['avg_romance_rating'] < score_limit_1 - 0.2) & (genre_ratings['avg_scifi_rating'] > score_limit_2)) | ((genre_ratings['avg_scifi_rating'] < score_limit_1) & (genre_ratings['avg_romance_rating'] > score_limit_2))]\n",
        "    biased_dataset = pd.concat([biased_dataset[:300], genre_ratings[:2]])\n",
        "    biased_dataset = pd.DataFrame(biased_dataset.to_records())\n",
        "    return biased_dataset\n",
        "\n",
        "# Bias the dataset\n",
        "biased_dataset = bias_genre_rating_dataset(genre_ratings, 3.2, 2.5)\n",
        "\n",
        "# Printing the resulting number of records & the head of the dataset\n",
        "print( \"Number of records: \", len(biased_dataset))\n",
        "biased_dataset.head()"
      ],
      "execution_count": 7,
      "outputs": [
        {
          "output_type": "stream",
          "name": "stdout",
          "text": [
            "Number of records:  162\n"
          ]
        },
        {
          "output_type": "execute_result",
          "data": {
            "text/plain": [
              "   index  avg_romance_rating  avg_scifi_rating\n",
              "0      3                0.50              4.20\n",
              "1      4                3.38              2.83\n",
              "2      5                3.09              2.50\n",
              "3      7                2.65              3.15\n",
              "4      9                3.17              3.00"
            ],
            "text/html": [
              "\n",
              "  <div id=\"df-9a1ddc84-6c86-4363-8c77-c93257e0db8f\">\n",
              "    <div class=\"colab-df-container\">\n",
              "      <div>\n",
              "<style scoped>\n",
              "    .dataframe tbody tr th:only-of-type {\n",
              "        vertical-align: middle;\n",
              "    }\n",
              "\n",
              "    .dataframe tbody tr th {\n",
              "        vertical-align: top;\n",
              "    }\n",
              "\n",
              "    .dataframe thead th {\n",
              "        text-align: right;\n",
              "    }\n",
              "</style>\n",
              "<table border=\"1\" class=\"dataframe\">\n",
              "  <thead>\n",
              "    <tr style=\"text-align: right;\">\n",
              "      <th></th>\n",
              "      <th>index</th>\n",
              "      <th>avg_romance_rating</th>\n",
              "      <th>avg_scifi_rating</th>\n",
              "    </tr>\n",
              "  </thead>\n",
              "  <tbody>\n",
              "    <tr>\n",
              "      <th>0</th>\n",
              "      <td>3</td>\n",
              "      <td>0.50</td>\n",
              "      <td>4.20</td>\n",
              "    </tr>\n",
              "    <tr>\n",
              "      <th>1</th>\n",
              "      <td>4</td>\n",
              "      <td>3.38</td>\n",
              "      <td>2.83</td>\n",
              "    </tr>\n",
              "    <tr>\n",
              "      <th>2</th>\n",
              "      <td>5</td>\n",
              "      <td>3.09</td>\n",
              "      <td>2.50</td>\n",
              "    </tr>\n",
              "    <tr>\n",
              "      <th>3</th>\n",
              "      <td>7</td>\n",
              "      <td>2.65</td>\n",
              "      <td>3.15</td>\n",
              "    </tr>\n",
              "    <tr>\n",
              "      <th>4</th>\n",
              "      <td>9</td>\n",
              "      <td>3.17</td>\n",
              "      <td>3.00</td>\n",
              "    </tr>\n",
              "  </tbody>\n",
              "</table>\n",
              "</div>\n",
              "      <button class=\"colab-df-convert\" onclick=\"convertToInteractive('df-9a1ddc84-6c86-4363-8c77-c93257e0db8f')\"\n",
              "              title=\"Convert this dataframe to an interactive table.\"\n",
              "              style=\"display:none;\">\n",
              "        \n",
              "  <svg xmlns=\"http://www.w3.org/2000/svg\" height=\"24px\"viewBox=\"0 0 24 24\"\n",
              "       width=\"24px\">\n",
              "    <path d=\"M0 0h24v24H0V0z\" fill=\"none\"/>\n",
              "    <path d=\"M18.56 5.44l.94 2.06.94-2.06 2.06-.94-2.06-.94-.94-2.06-.94 2.06-2.06.94zm-11 1L8.5 8.5l.94-2.06 2.06-.94-2.06-.94L8.5 2.5l-.94 2.06-2.06.94zm10 10l.94 2.06.94-2.06 2.06-.94-2.06-.94-.94-2.06-.94 2.06-2.06.94z\"/><path d=\"M17.41 7.96l-1.37-1.37c-.4-.4-.92-.59-1.43-.59-.52 0-1.04.2-1.43.59L10.3 9.45l-7.72 7.72c-.78.78-.78 2.05 0 2.83L4 21.41c.39.39.9.59 1.41.59.51 0 1.02-.2 1.41-.59l7.78-7.78 2.81-2.81c.8-.78.8-2.07 0-2.86zM5.41 20L4 18.59l7.72-7.72 1.47 1.35L5.41 20z\"/>\n",
              "  </svg>\n",
              "      </button>\n",
              "      \n",
              "  <style>\n",
              "    .colab-df-container {\n",
              "      display:flex;\n",
              "      flex-wrap:wrap;\n",
              "      gap: 12px;\n",
              "    }\n",
              "\n",
              "    .colab-df-convert {\n",
              "      background-color: #E8F0FE;\n",
              "      border: none;\n",
              "      border-radius: 50%;\n",
              "      cursor: pointer;\n",
              "      display: none;\n",
              "      fill: #1967D2;\n",
              "      height: 32px;\n",
              "      padding: 0 0 0 0;\n",
              "      width: 32px;\n",
              "    }\n",
              "\n",
              "    .colab-df-convert:hover {\n",
              "      background-color: #E2EBFA;\n",
              "      box-shadow: 0px 1px 2px rgba(60, 64, 67, 0.3), 0px 1px 3px 1px rgba(60, 64, 67, 0.15);\n",
              "      fill: #174EA6;\n",
              "    }\n",
              "\n",
              "    [theme=dark] .colab-df-convert {\n",
              "      background-color: #3B4455;\n",
              "      fill: #D2E3FC;\n",
              "    }\n",
              "\n",
              "    [theme=dark] .colab-df-convert:hover {\n",
              "      background-color: #434B5C;\n",
              "      box-shadow: 0px 1px 3px 1px rgba(0, 0, 0, 0.15);\n",
              "      filter: drop-shadow(0px 1px 2px rgba(0, 0, 0, 0.3));\n",
              "      fill: #FFFFFF;\n",
              "    }\n",
              "  </style>\n",
              "\n",
              "      <script>\n",
              "        const buttonEl =\n",
              "          document.querySelector('#df-9a1ddc84-6c86-4363-8c77-c93257e0db8f button.colab-df-convert');\n",
              "        buttonEl.style.display =\n",
              "          google.colab.kernel.accessAllowed ? 'block' : 'none';\n",
              "\n",
              "        async function convertToInteractive(key) {\n",
              "          const element = document.querySelector('#df-9a1ddc84-6c86-4363-8c77-c93257e0db8f');\n",
              "          const dataTable =\n",
              "            await google.colab.kernel.invokeFunction('convertToInteractive',\n",
              "                                                     [key], {});\n",
              "          if (!dataTable) return;\n",
              "\n",
              "          const docLinkHtml = 'Like what you see? Visit the ' +\n",
              "            '<a target=\"_blank\" href=https://colab.research.google.com/notebooks/data_table.ipynb>data table notebook</a>'\n",
              "            + ' to learn more about interactive tables.';\n",
              "          element.innerHTML = '';\n",
              "          dataTable['output_type'] = 'display_data';\n",
              "          await google.colab.output.renderOutput(dataTable, element);\n",
              "          const docLink = document.createElement('div');\n",
              "          docLink.innerHTML = docLinkHtml;\n",
              "          element.appendChild(docLink);\n",
              "        }\n",
              "      </script>\n",
              "    </div>\n",
              "  </div>\n",
              "  "
            ]
          },
          "metadata": {},
          "execution_count": 7
        }
      ]
    },
    {
      "cell_type": "code",
      "metadata": {
        "colab": {
          "base_uri": "https://localhost:8080/",
          "height": 501
        },
        "id": "MLCoVvz0ctAh",
        "outputId": "b461ebd2-7838-4867-cf74-3447aa357528"
      },
      "source": [
        "# Defining the scatterplot drawing function\n",
        "def draw_scatterplot(x_data, x_label, y_data, y_label):\n",
        "    fig = plt.figure(figsize=(8,8))\n",
        "    ax = fig.add_subplot(111)    \n",
        "    plt.xlim(0, 5)\n",
        "    plt.ylim(0, 5)\n",
        "    ax.set_xlabel(x_label)\n",
        "    ax.set_ylabel(y_label)\n",
        "    ax.scatter(x_data, y_data, s=30)\n",
        "    \n",
        "# Plot the scatterplot\n",
        "draw_scatterplot(biased_dataset['avg_scifi_rating'],'Avg scifi rating', biased_dataset['avg_romance_rating'], 'Avg romance rating')"
      ],
      "execution_count": 8,
      "outputs": [
        {
          "output_type": "display_data",
          "data": {
            "text/plain": [
              "<Figure size 576x576 with 1 Axes>"
            ],
            "image/png": "[encoded data removed]"
          },
          "metadata": {
            "needs_background": "light"
          }
        }
      ]
    },
    {
      "cell_type": "code",
      "metadata": {
        "colab": {
          "base_uri": "https://localhost:8080/",
          "height": 556
        },
        "id": "LRfknsM1c1Ur",
        "outputId": "7409a5cc-cee5-4777-c635-8c3511025915"
      },
      "source": [
        "# Let's turn our dataset into a list\n",
        "X = biased_dataset[['avg_scifi_rating','avg_romance_rating']].values\n",
        "\n",
        "# Import KMeans\n",
        "from sklearn.cluster import KMeans\n",
        "\n",
        "# Create an instance of KMeans to find two clusters\n",
        "kmeans_1 = KMeans(n_clusters=2)\n",
        "\n",
        "# Use fit_predict to cluster the dataset\n",
        "predictions = kmeans_1.fit_predict(X)\n",
        "\n",
        "# Defining the cluster plotting function\n",
        "def draw_clusters(biased_dataset, predictions, cmap='viridis'):\n",
        "    fig = plt.figure(figsize=(8,8))\n",
        "    ax = fig.add_subplot(111)\n",
        "    plt.xlim(0, 5)\n",
        "    plt.ylim(0, 5)\n",
        "    ax.set_xlabel('Avg scifi rating')\n",
        "    ax.set_ylabel('Avg romance rating')\n",
        "    clustered = pd.concat([biased_dataset.reset_index(), pd.DataFrame({'group':predictions})], axis=1)\n",
        "    plt.scatter(clustered['avg_scifi_rating'], clustered['avg_romance_rating'], c=clustered['group'], s=20, cmap=cmap)\n",
        "    \n",
        "# Plot\n",
        "draw_clusters(biased_dataset, predictions)"
      ],
      "execution_count": 9,
      "outputs": [
        {
          "output_type": "stream",
          "name": "stderr",
          "text": [
            "/usr/local/lib/python3.9/dist-packages/sklearn/cluster/_kmeans.py:870: FutureWarning: The default value of `n_init` will change from 10 to 'auto' in 1.4. Set the value of `n_init` explicitly to suppress the warning\n",
            "  warnings.warn(\n"
          ]
        },
        {
          "output_type": "display_data",
          "data": {
            "text/plain": [
              "<Figure size 576x576 with 1 Axes>"
            ],
            "image/png": "[encoded data removed]"
          },
          "metadata": {
            "needs_background": "light"
          }
        }
      ]
    },
    {
      "cell_type": "code",
      "metadata": {
        "colab": {
          "base_uri": "https://localhost:8080/",
          "height": 556
        },
        "id": "4tVnggzlc-rg",
        "outputId": "9e94f4fe-1ceb-4fe0-d83f-7138b6b45fa0"
      },
      "source": [
        "# Create an instance of KMeans to find three clusters\n",
        "kmeans_2 = KMeans(n_clusters=3)\n",
        "# Use fit_predict to cluster the dataset\n",
        "predictions_2 = kmeans_2.fit_predict(X)\n",
        "# Plot\n",
        "draw_clusters(biased_dataset, predictions_2)"
      ],
      "execution_count": 10,
      "outputs": [
        {
          "output_type": "stream",
          "name": "stderr",
          "text": [
            "/usr/local/lib/python3.9/dist-packages/sklearn/cluster/_kmeans.py:870: FutureWarning: The default value of `n_init` will change from 10 to 'auto' in 1.4. Set the value of `n_init` explicitly to suppress the warning\n",
            "  warnings.warn(\n"
          ]
        },
        {
          "output_type": "display_data",
          "data": {
            "text/plain": [
              "<Figure size 576x576 with 1 Axes>"
            ],
            "image/png": "[encoded data removed]"
          },
          "metadata": {
            "needs_background": "light"
          }
        }
      ]
    },
    {
      "cell_type": "markdown",
      "metadata": {
        "id": "Xi5ObyC0dLle"
      },
      "source": [
        "It is evident now that the science-fiction rating has started to come into play:\n",
        "\n",
        "    People who like sci-fi and romance modeately belong to the green group.\n",
        "    People who like scifi but not romance belong to the yello group.\n",
        "    People who like romance but not sci-fi belong to the purple group."
      ]
    },
    {
      "cell_type": "markdown",
      "metadata": {
        "id": "p5w_-jzld_rM"
      },
      "source": [
        "Finding optimal clusters using silhouette score"
      ]
    },
    {
      "cell_type": "code",
      "metadata": {
        "colab": {
          "base_uri": "https://localhost:8080/",
          "height": 1000
        },
        "id": "HyzcralUdFxj",
        "outputId": "01199d8b-dc73-4d3d-ca09-3aa50a258a53"
      },
      "source": [
        "# Selecting our dataset to study\n",
        "df = biased_dataset[['avg_scifi_rating','avg_romance_rating']]\n",
        "\n",
        "# Choose the range of k values to test.\n",
        "# We added a stride of 5 to improve performance. We don't need to calculate the error for every k value\n",
        "possible_k_values = range(2, len(X)+1, 5)\n",
        "\n",
        "# Define function to calculate the clustering errors\n",
        "def clustering_errors(k, data):\n",
        "    kmeans = KMeans(n_clusters=k).fit(data)\n",
        "    predictions = kmeans.predict(data)\n",
        "    #cluster_centers = kmeans.cluster_centers_\n",
        "    # errors = [mean_squared_error(row, cluster_centers[cluster]) for row, cluster in zip(data.values, predictions)]\n",
        "    # return sum(errors)\n",
        "    silhouette_avg = silhouette_score(data, predictions)\n",
        "    return silhouette_avg\n",
        "\n",
        "# Calculate error values for all k values we're interested in\n",
        "errors_per_k = [clustering_errors(k, X) for k in possible_k_values]\n",
        "\n",
        "# Plot the each value of K vs. the silhouette score at that value\n",
        "fig, ax = plt.subplots(figsize=(16, 6))\n",
        "plt.plot(possible_k_values, errors_per_k)\n",
        "\n",
        "# Ticks and grid\n",
        "xticks = np.arange(min(possible_k_values), max(possible_k_values)+1, 5.0)\n",
        "ax.set_xticks(xticks, minor=False)\n",
        "ax.set_xticks(xticks, minor=True)\n",
        "ax.xaxis.grid(True, which='both')\n",
        "yticks = np.arange(round(min(errors_per_k), 2), max(errors_per_k), .05)\n",
        "ax.set_yticks(yticks, minor=False)\n",
        "ax.set_yticks(yticks, minor=True)\n",
        "ax.yaxis.grid(True, which='both')"
      ],
      "execution_count": 11,
      "outputs": [
        {
          "output_type": "stream",
          "name": "stderr",
          "text": [
            "/usr/local/lib/python3.9/dist-packages/sklearn/cluster/_kmeans.py:870: FutureWarning: The default value of `n_init` will change from 10 to 'auto' in 1.4. Set the value of `n_init` explicitly to suppress the warning\n",
            "  warnings.warn(\n",
            "/usr/local/lib/python3.9/dist-packages/sklearn/cluster/_kmeans.py:870: FutureWarning: The default value of `n_init` will change from 10 to 'auto' in 1.4. Set the value of `n_init` explicitly to suppress the warning\n",
            "  warnings.warn(\n",
            "/usr/local/lib/python3.9/dist-packages/sklearn/cluster/_kmeans.py:870: FutureWarning: The default value of `n_init` will change from 10 to 'auto' in 1.4. Set the value of `n_init` explicitly to suppress the warning\n",
            "  warnings.warn(\n",
            "/usr/local/lib/python3.9/dist-packages/sklearn/cluster/_kmeans.py:870: FutureWarning: The default value of `n_init` will change from 10 to 'auto' in 1.4. Set the value of `n_init` explicitly to suppress the warning\n",
            "  warnings.warn(\n",
            "/usr/local/lib/python3.9/dist-packages/sklearn/cluster/_kmeans.py:870: FutureWarning: The default value of `n_init` will change from 10 to 'auto' in 1.4. Set the value of `n_init` explicitly to suppress the warning\n",
            "  warnings.warn(\n",
            "/usr/local/lib/python3.9/dist-packages/sklearn/cluster/_kmeans.py:870: FutureWarning: The default value of `n_init` will change from 10 to 'auto' in 1.4. Set the value of `n_init` explicitly to suppress the warning\n",
            "  warnings.warn(\n",
            "/usr/local/lib/python3.9/dist-packages/sklearn/cluster/_kmeans.py:870: FutureWarning: The default value of `n_init` will change from 10 to 'auto' in 1.4. Set the value of `n_init` explicitly to suppress the warning\n",
            "  warnings.warn(\n",
            "/usr/local/lib/python3.9/dist-packages/sklearn/cluster/_kmeans.py:870: FutureWarning: The default value of `n_init` will change from 10 to 'auto' in 1.4. Set the value of `n_init` explicitly to suppress the warning\n",
            "  warnings.warn(\n",
            "/usr/local/lib/python3.9/dist-packages/sklearn/cluster/_kmeans.py:870: FutureWarning: The default value of `n_init` will change from 10 to 'auto' in 1.4. Set the value of `n_init` explicitly to suppress the warning\n",
            "  warnings.warn(\n",
            "/usr/local/lib/python3.9/dist-packages/sklearn/cluster/_kmeans.py:870: FutureWarning: The default value of `n_init` will change from 10 to 'auto' in 1.4. Set the value of `n_init` explicitly to suppress the warning\n",
            "  warnings.warn(\n",
            "/usr/local/lib/python3.9/dist-packages/sklearn/cluster/_kmeans.py:870: FutureWarning: The default value of `n_init` will change from 10 to 'auto' in 1.4. Set the value of `n_init` explicitly to suppress the warning\n",
            "  warnings.warn(\n",
            "/usr/local/lib/python3.9/dist-packages/sklearn/cluster/_kmeans.py:870: FutureWarning: The default value of `n_init` will change from 10 to 'auto' in 1.4. Set the value of `n_init` explicitly to suppress the warning\n",
            "  warnings.warn(\n",
            "/usr/local/lib/python3.9/dist-packages/sklearn/cluster/_kmeans.py:870: FutureWarning: The default value of `n_init` will change from 10 to 'auto' in 1.4. Set the value of `n_init` explicitly to suppress the warning\n",
            "  warnings.warn(\n",
            "/usr/local/lib/python3.9/dist-packages/sklearn/cluster/_kmeans.py:870: FutureWarning: The default value of `n_init` will change from 10 to 'auto' in 1.4. Set the value of `n_init` explicitly to suppress the warning\n",
            "  warnings.warn(\n",
            "/usr/local/lib/python3.9/dist-packages/sklearn/cluster/_kmeans.py:870: FutureWarning: The default value of `n_init` will change from 10 to 'auto' in 1.4. Set the value of `n_init` explicitly to suppress the warning\n",
            "  warnings.warn(\n",
            "/usr/local/lib/python3.9/dist-packages/sklearn/cluster/_kmeans.py:870: FutureWarning: The default value of `n_init` will change from 10 to 'auto' in 1.4. Set the value of `n_init` explicitly to suppress the warning\n",
            "  warnings.warn(\n",
            "/usr/local/lib/python3.9/dist-packages/sklearn/cluster/_kmeans.py:870: FutureWarning: The default value of `n_init` will change from 10 to 'auto' in 1.4. Set the value of `n_init` explicitly to suppress the warning\n",
            "  warnings.warn(\n",
            "/usr/local/lib/python3.9/dist-packages/sklearn/cluster/_kmeans.py:870: FutureWarning: The default value of `n_init` will change from 10 to 'auto' in 1.4. Set the value of `n_init` explicitly to suppress the warning\n",
            "  warnings.warn(\n",
            "/usr/local/lib/python3.9/dist-packages/sklearn/cluster/_kmeans.py:870: FutureWarning: The default value of `n_init` will change from 10 to 'auto' in 1.4. Set the value of `n_init` explicitly to suppress the warning\n",
            "  warnings.warn(\n",
            "/usr/local/lib/python3.9/dist-packages/sklearn/cluster/_kmeans.py:870: FutureWarning: The default value of `n_init` will change from 10 to 'auto' in 1.4. Set the value of `n_init` explicitly to suppress the warning\n",
            "  warnings.warn(\n",
            "/usr/local/lib/python3.9/dist-packages/sklearn/cluster/_kmeans.py:870: FutureWarning: The default value of `n_init` will change from 10 to 'auto' in 1.4. Set the value of `n_init` explicitly to suppress the warning\n",
            "  warnings.warn(\n",
            "/usr/local/lib/python3.9/dist-packages/sklearn/cluster/_kmeans.py:870: FutureWarning: The default value of `n_init` will change from 10 to 'auto' in 1.4. Set the value of `n_init` explicitly to suppress the warning\n",
            "  warnings.warn(\n",
            "/usr/local/lib/python3.9/dist-packages/sklearn/cluster/_kmeans.py:870: FutureWarning: The default value of `n_init` will change from 10 to 'auto' in 1.4. Set the value of `n_init` explicitly to suppress the warning\n",
            "  warnings.warn(\n",
            "/usr/local/lib/python3.9/dist-packages/sklearn/cluster/_kmeans.py:870: FutureWarning: The default value of `n_init` will change from 10 to 'auto' in 1.4. Set the value of `n_init` explicitly to suppress the warning\n",
            "  warnings.warn(\n",
            "/usr/local/lib/python3.9/dist-packages/sklearn/cluster/_kmeans.py:870: FutureWarning: The default value of `n_init` will change from 10 to 'auto' in 1.4. Set the value of `n_init` explicitly to suppress the warning\n",
            "  warnings.warn(\n",
            "/usr/local/lib/python3.9/dist-packages/sklearn/cluster/_kmeans.py:870: FutureWarning: The default value of `n_init` will change from 10 to 'auto' in 1.4. Set the value of `n_init` explicitly to suppress the warning\n",
            "  warnings.warn(\n",
            "/usr/local/lib/python3.9/dist-packages/sklearn/cluster/_kmeans.py:870: FutureWarning: The default value of `n_init` will change from 10 to 'auto' in 1.4. Set the value of `n_init` explicitly to suppress the warning\n",
            "  warnings.warn(\n",
            "/usr/local/lib/python3.9/dist-packages/sklearn/cluster/_kmeans.py:870: FutureWarning: The default value of `n_init` will change from 10 to 'auto' in 1.4. Set the value of `n_init` explicitly to suppress the warning\n",
            "  warnings.warn(\n",
            "/usr/local/lib/python3.9/dist-packages/sklearn/cluster/_kmeans.py:870: FutureWarning: The default value of `n_init` will change from 10 to 'auto' in 1.4. Set the value of `n_init` explicitly to suppress the warning\n",
            "  warnings.warn(\n",
            "/usr/local/lib/python3.9/dist-packages/sklearn/cluster/_kmeans.py:870: FutureWarning: The default value of `n_init` will change from 10 to 'auto' in 1.4. Set the value of `n_init` explicitly to suppress the warning\n",
            "  warnings.warn(\n",
            "/usr/local/lib/python3.9/dist-packages/sklearn/cluster/_kmeans.py:870: FutureWarning: The default value of `n_init` will change from 10 to 'auto' in 1.4. Set the value of `n_init` explicitly to suppress the warning\n",
            "  warnings.warn(\n",
            "/usr/local/lib/python3.9/dist-packages/sklearn/cluster/_kmeans.py:870: FutureWarning: The default value of `n_init` will change from 10 to 'auto' in 1.4. Set the value of `n_init` explicitly to suppress the warning\n",
            "  warnings.warn(\n",
            "/usr/local/lib/python3.9/dist-packages/sklearn/cluster/_kmeans.py:870: FutureWarning: The default value of `n_init` will change from 10 to 'auto' in 1.4. Set the value of `n_init` explicitly to suppress the warning\n",
            "  warnings.warn(\n",
            "<ipython-input-11-ea56d5ac5a15>:10: ConvergenceWarning: Number of distinct clusters (157) found smaller than n_clusters (162). Possibly due to duplicate points in X.\n",
            "  kmeans = KMeans(n_clusters=k).fit(data)\n"
          ]
        },
        {
          "output_type": "display_data",
          "data": {
            "text/plain": [
              "<Figure size 1152x432 with 1 Axes>"
            ],
            "image/png": "[encoded data removed]"
          },
          "metadata": {
            "needs_background": "light"
          }
        }
      ]
    },
    {
      "cell_type": "markdown",
      "metadata": {
        "id": "j02Q87YjepyP"
      },
      "source": [
        "We will chose the K = 7 as it is the one that yields the best score and will be easier to visualize.\n",
        "\n"
      ]
    },
    {
      "cell_type": "code",
      "metadata": {
        "colab": {
          "base_uri": "https://localhost:8080/",
          "height": 556
        },
        "id": "lV1yJyAbeWHC",
        "outputId": "29edb5f9-11df-4137-c049-2c005953a513"
      },
      "source": [
        "# Create an instance of KMeans to find seven clusters\n",
        "kmeans_4 = KMeans(n_clusters=7)\n",
        "# Use fit_predict to cluster the dataset\n",
        "predictions_4 = kmeans_4.fit_predict(X)\n",
        "# Plot\n",
        "draw_clusters(biased_dataset, predictions_4, cmap='Accent')"
      ],
      "execution_count": 12,
      "outputs": [
        {
          "output_type": "stream",
          "name": "stderr",
          "text": [
            "/usr/local/lib/python3.9/dist-packages/sklearn/cluster/_kmeans.py:870: FutureWarning: The default value of `n_init` will change from 10 to 'auto' in 1.4. Set the value of `n_init` explicitly to suppress the warning\n",
            "  warnings.warn(\n"
          ]
        },
        {
          "output_type": "display_data",
          "data": {
            "text/plain": [
              "<Figure size 576x576 with 1 Axes>"
            ],
            "image/png": "[encoded data removed]"
          },
          "metadata": {
            "needs_background": "light"
          }
        }
      ]
    },
    {
      "cell_type": "markdown",
      "metadata": {
        "id": "Bqqi2h3FfaXs"
      },
      "source": [
        "Up to now, we have only analyzed romance and science-fiction movies. Let us see what happens when adding other genre to our analysis by adding Action movies."
      ]
    },
    {
      "cell_type": "code",
      "metadata": {
        "colab": {
          "base_uri": "https://localhost:8080/",
          "height": 223
        },
        "id": "Wv4ykXxweyrf",
        "outputId": "f06a3345-548a-49c0-a357-6a35bb9c5b55"
      },
      "source": [
        "# Select our biased dataset and add action genre\n",
        "biased_dataset_3_genres = get_genre_ratings(ratings, movies, ['Romance','Sci-Fi', 'Action'],                                          \n",
        "['avg_romance_rating', 'avg_scifi_rating', 'avg_action_rating'])\n",
        "# Drop null values\n",
        "biased_dataset_3_genres = bias_genre_rating_dataset(biased_dataset_3_genres, 3.2, 2.5).dropna()\n",
        "# Print the number of records and the head of our dataset\n",
        "print( \"Number of records: \", len(biased_dataset_3_genres))\n",
        "biased_dataset_3_genres.head()"
      ],
      "execution_count": 13,
      "outputs": [
        {
          "output_type": "stream",
          "name": "stdout",
          "text": [
            "Number of records:  161\n"
          ]
        },
        {
          "output_type": "execute_result",
          "data": {
            "text/plain": [
              "   index  avg_romance_rating  avg_scifi_rating  avg_action_rating\n",
              "0      3                0.50              4.20               3.57\n",
              "1      4                3.38              2.83               3.32\n",
              "2      5                3.09              2.50               3.11\n",
              "3      7                2.65              3.15               3.26\n",
              "4      9                3.17              3.00               3.12"
            ],
            "text/html": [
              "\n",
              "  <div id=\"df-1c1a74cc-4f40-4389-b1d1-6b082ec3cdbf\">\n",
              "    <div class=\"colab-df-container\">\n",
              "      <div>\n",
              "<style scoped>\n",
              "    .dataframe tbody tr th:only-of-type {\n",
              "        vertical-align: middle;\n",
              "    }\n",
              "\n",
              "    .dataframe tbody tr th {\n",
              "        vertical-align: top;\n",
              "    }\n",
              "\n",
              "    .dataframe thead th {\n",
              "        text-align: right;\n",
              "    }\n",
              "</style>\n",
              "<table border=\"1\" class=\"dataframe\">\n",
              "  <thead>\n",
              "    <tr style=\"text-align: right;\">\n",
              "      <th></th>\n",
              "      <th>index</th>\n",
              "      <th>avg_romance_rating</th>\n",
              "      <th>avg_scifi_rating</th>\n",
              "      <th>avg_action_rating</th>\n",
              "    </tr>\n",
              "  </thead>\n",
              "  <tbody>\n",
              "    <tr>\n",
              "      <th>0</th>\n",
              "      <td>3</td>\n",
              "      <td>0.50</td>\n",
              "      <td>4.20</td>\n",
              "      <td>3.57</td>\n",
              "    </tr>\n",
              "    <tr>\n",
              "      <th>1</th>\n",
              "      <td>4</td>\n",
              "      <td>3.38</td>\n",
              "      <td>2.83</td>\n",
              "      <td>3.32</td>\n",
              "    </tr>\n",
              "    <tr>\n",
              "      <th>2</th>\n",
              "      <td>5</td>\n",
              "      <td>3.09</td>\n",
              "      <td>2.50</td>\n",
              "      <td>3.11</td>\n",
              "    </tr>\n",
              "    <tr>\n",
              "      <th>3</th>\n",
              "      <td>7</td>\n",
              "      <td>2.65</td>\n",
              "      <td>3.15</td>\n",
              "      <td>3.26</td>\n",
              "    </tr>\n",
              "    <tr>\n",
              "      <th>4</th>\n",
              "      <td>9</td>\n",
              "      <td>3.17</td>\n",
              "      <td>3.00</td>\n",
              "      <td>3.12</td>\n",
              "    </tr>\n",
              "  </tbody>\n",
              "</table>\n",
              "</div>\n",
              "      <button class=\"colab-df-convert\" onclick=\"convertToInteractive('df-1c1a74cc-4f40-4389-b1d1-6b082ec3cdbf')\"\n",
              "              title=\"Convert this dataframe to an interactive table.\"\n",
              "              style=\"display:none;\">\n",
              "        \n",
              "  <svg xmlns=\"http://www.w3.org/2000/svg\" height=\"24px\"viewBox=\"0 0 24 24\"\n",
              "       width=\"24px\">\n",
              "    <path d=\"M0 0h24v24H0V0z\" fill=\"none\"/>\n",
              "    <path d=\"M18.56 5.44l.94 2.06.94-2.06 2.06-.94-2.06-.94-.94-2.06-.94 2.06-2.06.94zm-11 1L8.5 8.5l.94-2.06 2.06-.94-2.06-.94L8.5 2.5l-.94 2.06-2.06.94zm10 10l.94 2.06.94-2.06 2.06-.94-2.06-.94-.94-2.06-.94 2.06-2.06.94z\"/><path d=\"M17.41 7.96l-1.37-1.37c-.4-.4-.92-.59-1.43-.59-.52 0-1.04.2-1.43.59L10.3 9.45l-7.72 7.72c-.78.78-.78 2.05 0 2.83L4 21.41c.39.39.9.59 1.41.59.51 0 1.02-.2 1.41-.59l7.78-7.78 2.81-2.81c.8-.78.8-2.07 0-2.86zM5.41 20L4 18.59l7.72-7.72 1.47 1.35L5.41 20z\"/>\n",
              "  </svg>\n",
              "      </button>\n",
              "      \n",
              "  <style>\n",
              "    .colab-df-container {\n",
              "      display:flex;\n",
              "      flex-wrap:wrap;\n",
              "      gap: 12px;\n",
              "    }\n",
              "\n",
              "    .colab-df-convert {\n",
              "      background-color: #E8F0FE;\n",
              "      border: none;\n",
              "      border-radius: 50%;\n",
              "      cursor: pointer;\n",
              "      display: none;\n",
              "      fill: #1967D2;\n",
              "      height: 32px;\n",
              "      padding: 0 0 0 0;\n",
              "      width: 32px;\n",
              "    }\n",
              "\n",
              "    .colab-df-convert:hover {\n",
              "      background-color: #E2EBFA;\n",
              "      box-shadow: 0px 1px 2px rgba(60, 64, 67, 0.3), 0px 1px 3px 1px rgba(60, 64, 67, 0.15);\n",
              "      fill: #174EA6;\n",
              "    }\n",
              "\n",
              "    [theme=dark] .colab-df-convert {\n",
              "      background-color: #3B4455;\n",
              "      fill: #D2E3FC;\n",
              "    }\n",
              "\n",
              "    [theme=dark] .colab-df-convert:hover {\n",
              "      background-color: #434B5C;\n",
              "      box-shadow: 0px 1px 3px 1px rgba(0, 0, 0, 0.15);\n",
              "      filter: drop-shadow(0px 1px 2px rgba(0, 0, 0, 0.3));\n",
              "      fill: #FFFFFF;\n",
              "    }\n",
              "  </style>\n",
              "\n",
              "      <script>\n",
              "        const buttonEl =\n",
              "          document.querySelector('#df-1c1a74cc-4f40-4389-b1d1-6b082ec3cdbf button.colab-df-convert');\n",
              "        buttonEl.style.display =\n",
              "          google.colab.kernel.accessAllowed ? 'block' : 'none';\n",
              "\n",
              "        async function convertToInteractive(key) {\n",
              "          const element = document.querySelector('#df-1c1a74cc-4f40-4389-b1d1-6b082ec3cdbf');\n",
              "          const dataTable =\n",
              "            await google.colab.kernel.invokeFunction('convertToInteractive',\n",
              "                                                     [key], {});\n",
              "          if (!dataTable) return;\n",
              "\n",
              "          const docLinkHtml = 'Like what you see? Visit the ' +\n",
              "            '<a target=\"_blank\" href=https://colab.research.google.com/notebooks/data_table.ipynb>data table notebook</a>'\n",
              "            + ' to learn more about interactive tables.';\n",
              "          element.innerHTML = '';\n",
              "          dataTable['output_type'] = 'display_data';\n",
              "          await google.colab.output.renderOutput(dataTable, element);\n",
              "          const docLink = document.createElement('div');\n",
              "          docLink.innerHTML = docLinkHtml;\n",
              "          element.appendChild(docLink);\n",
              "        }\n",
              "      </script>\n",
              "    </div>\n",
              "  </div>\n",
              "  "
            ]
          },
          "metadata": {},
          "execution_count": 13
        }
      ]
    },
    {
      "cell_type": "code",
      "metadata": {
        "colab": {
          "base_uri": "https://localhost:8080/",
          "height": 556
        },
        "id": "bmxE7OEbfjgH",
        "outputId": "44488034-842f-4651-f005-8c07bcd563ae"
      },
      "source": [
        "# Turn dataset into a list\n",
        "X_with_action = biased_dataset_3_genres[['avg_scifi_rating','avg_romance_rating','avg_action_rating']].values# Create an instance of KMeans to find seven clusters\n",
        "kmeans_5 = KMeans(n_clusters=7)\n",
        "# Use fit_predict to cluster the dataset\n",
        "predictions_5 = kmeans_5.fit_predict(X_with_action)\n",
        "# Define 3d plotting function\n",
        "def draw_clusters_3d(biased_dataset_3, predictions):\n",
        "    fig = plt.figure(figsize=(8,8))\n",
        "    ax = fig.add_subplot(111)\n",
        "    plt.xlim(0, 5)\n",
        "    plt.ylim(0, 5)\n",
        "    ax.set_xlabel('Avg scifi rating')\n",
        "    ax.set_ylabel('Avg romance rating')\n",
        "    clustered = pd.concat([biased_dataset_3.reset_index(), pd.DataFrame({'group':predictions})], axis=1)\n",
        "    colors = itertools.cycle(plt.rcParams[\"axes.prop_cycle\"].by_key()[\"color\"])\n",
        "    for g in clustered.group.unique():\n",
        "        color = next(colors)\n",
        "        for index, point in clustered[clustered.group == g].iterrows():\n",
        "            if point['avg_action_rating'].astype(float) > 3: \n",
        "                size = 50\n",
        "            else:\n",
        "                size = 15\n",
        "            plt.scatter(point['avg_scifi_rating'], \n",
        "                        point['avg_romance_rating'], \n",
        "                        s=size, \n",
        "                        color=color)# Plot\n",
        "draw_clusters_3d(biased_dataset_3_genres, predictions_5)"
      ],
      "execution_count": 14,
      "outputs": [
        {
          "output_type": "stream",
          "name": "stderr",
          "text": [
            "/usr/local/lib/python3.9/dist-packages/sklearn/cluster/_kmeans.py:870: FutureWarning: The default value of `n_init` will change from 10 to 'auto' in 1.4. Set the value of `n_init` explicitly to suppress the warning\n",
            "  warnings.warn(\n"
          ]
        },
        {
          "output_type": "display_data",
          "data": {
            "text/plain": [
              "<Figure size 576x576 with 1 Axes>"
            ],
            "image/png": "[encoded data removed]"
          },
          "metadata": {
            "needs_background": "light"
          }
        }
      ]
    },
    {
      "cell_type": "markdown",
      "metadata": {
        "id": "2Upy7G0Ta5MH"
      },
      "source": [
        "The size of the dots represent the ratings of the action movies."
      ]
    },
    {
      "cell_type": "markdown",
      "metadata": {
        "id": "gzfFJTMJbGCk"
      },
      "source": [
        "### Taking users into consideration"
      ]
    },
    {
      "cell_type": "markdown",
      "metadata": {
        "id": "JahmtB_0f5fd"
      },
      "source": [
        "Once we have seen and understood how the K-Means algorithm group the users by their movie genre preferences, we are going to take a bigger picture of the dataset and explore how users rate individual movies.\n",
        "\n",
        "To do so, we will subset the dataset by ‘userid’ vs ‘user rating’ as follows."
      ]
    },
    {
      "cell_type": "code",
      "metadata": {
        "colab": {
          "base_uri": "https://localhost:8080/",
          "height": 416
        },
        "id": "oy6yk-kxfuxC",
        "outputId": "420de22a-f53c-4ebc-bb77-ac968dd108ac"
      },
      "source": [
        "# Merge the two tables then pivot so we have Users X Movies dataframe\n",
        "ratings_title = pd.merge(ratings, movies[['movieId', 'title']], on='movieId' )\n",
        "user_movie_ratings = pd.pivot_table(ratings_title, index='userId', columns= 'title', values='rating')\n",
        "\n",
        "# Print he number of dimensions and a subset of the dataset\n",
        "print('dataset dimensions: ', user_movie_ratings.shape, '\\n\\nSubset example:')\n",
        "user_movie_ratings.iloc[:6, :10]"
      ],
      "execution_count": 15,
      "outputs": [
        {
          "output_type": "stream",
          "name": "stdout",
          "text": [
            "dataset dimensions:  (610, 9719) \n",
            "\n",
            "Subset example:\n"
          ]
        },
        {
          "output_type": "execute_result",
          "data": {
            "text/plain": [
              "title   '71 (2014)  'Hellboy': The Seeds of Creation (2004)  \\\n",
              "userId                                                        \n",
              "1              NaN                                      NaN   \n",
              "2              NaN                                      NaN   \n",
              "3              NaN                                      NaN   \n",
              "4              NaN                                      NaN   \n",
              "5              NaN                                      NaN   \n",
              "6              NaN                                      NaN   \n",
              "\n",
              "title   'Round Midnight (1986)  'Salem's Lot (2004)  \\\n",
              "userId                                                \n",
              "1                          NaN                  NaN   \n",
              "2                          NaN                  NaN   \n",
              "3                          NaN                  NaN   \n",
              "4                          NaN                  NaN   \n",
              "5                          NaN                  NaN   \n",
              "6                          NaN                  NaN   \n",
              "\n",
              "title   'Til There Was You (1997)  'Tis the Season for Love (2015)  \\\n",
              "userId                                                               \n",
              "1                             NaN                              NaN   \n",
              "2                             NaN                              NaN   \n",
              "3                             NaN                              NaN   \n",
              "4                             NaN                              NaN   \n",
              "5                             NaN                              NaN   \n",
              "6                             NaN                              NaN   \n",
              "\n",
              "title   'burbs, The (1989)  'night Mother (1986)  (500) Days of Summer (2009)  \\\n",
              "userId                                                                          \n",
              "1                      NaN                   NaN                          NaN   \n",
              "2                      NaN                   NaN                          NaN   \n",
              "3                      NaN                   NaN                          NaN   \n",
              "4                      NaN                   NaN                          NaN   \n",
              "5                      NaN                   NaN                          NaN   \n",
              "6                      NaN                   NaN                          NaN   \n",
              "\n",
              "title   *batteries not included (1987)  \n",
              "userId                                  \n",
              "1                                  NaN  \n",
              "2                                  NaN  \n",
              "3                                  NaN  \n",
              "4                                  NaN  \n",
              "5                                  NaN  \n",
              "6                                  NaN  "
            ],
            "text/html": [
              "\n",
              "  <div id=\"df-3978d4ea-a544-4cd2-bf29-cec1ff585599\">\n",
              "    <div class=\"colab-df-container\">\n",
              "      <div>\n",
              "<style scoped>\n",
              "    .dataframe tbody tr th:only-of-type {\n",
              "        vertical-align: middle;\n",
              "    }\n",
              "\n",
              "    .dataframe tbody tr th {\n",
              "        vertical-align: top;\n",
              "    }\n",
              "\n",
              "    .dataframe thead th {\n",
              "        text-align: right;\n",
              "    }\n",
              "</style>\n",
              "<table border=\"1\" class=\"dataframe\">\n",
              "  <thead>\n",
              "    <tr style=\"text-align: right;\">\n",
              "      <th>title</th>\n",
              "      <th>'71 (2014)</th>\n",
              "      <th>'Hellboy': The Seeds of Creation (2004)</th>\n",
              "      <th>'Round Midnight (1986)</th>\n",
              "      <th>'Salem's Lot (2004)</th>\n",
              "      <th>'Til There Was You (1997)</th>\n",
              "      <th>'Tis the Season for Love (2015)</th>\n",
              "      <th>'burbs, The (1989)</th>\n",
              "      <th>'night Mother (1986)</th>\n",
              "      <th>(500) Days of Summer (2009)</th>\n",
              "      <th>*batteries not included (1987)</th>\n",
              "    </tr>\n",
              "    <tr>\n",
              "      <th>userId</th>\n",
              "      <th></th>\n",
              "      <th></th>\n",
              "      <th></th>\n",
              "      <th></th>\n",
              "      <th></th>\n",
              "      <th></th>\n",
              "      <th></th>\n",
              "      <th></th>\n",
              "      <th></th>\n",
              "      <th></th>\n",
              "    </tr>\n",
              "  </thead>\n",
              "  <tbody>\n",
              "    <tr>\n",
              "      <th>1</th>\n",
              "      <td>NaN</td>\n",
              "      <td>NaN</td>\n",
              "      <td>NaN</td>\n",
              "      <td>NaN</td>\n",
              "      <td>NaN</td>\n",
              "      <td>NaN</td>\n",
              "      <td>NaN</td>\n",
              "      <td>NaN</td>\n",
              "      <td>NaN</td>\n",
              "      <td>NaN</td>\n",
              "    </tr>\n",
              "    <tr>\n",
              "      <th>2</th>\n",
              "      <td>NaN</td>\n",
              "      <td>NaN</td>\n",
              "      <td>NaN</td>\n",
              "      <td>NaN</td>\n",
              "      <td>NaN</td>\n",
              "      <td>NaN</td>\n",
              "      <td>NaN</td>\n",
              "      <td>NaN</td>\n",
              "      <td>NaN</td>\n",
              "      <td>NaN</td>\n",
              "    </tr>\n",
              "    <tr>\n",
              "      <th>3</th>\n",
              "      <td>NaN</td>\n",
              "      <td>NaN</td>\n",
              "      <td>NaN</td>\n",
              "      <td>NaN</td>\n",
              "      <td>NaN</td>\n",
              "      <td>NaN</td>\n",
              "      <td>NaN</td>\n",
              "      <td>NaN</td>\n",
              "      <td>NaN</td>\n",
              "      <td>NaN</td>\n",
              "    </tr>\n",
              "    <tr>\n",
              "      <th>4</th>\n",
              "      <td>NaN</td>\n",
              "      <td>NaN</td>\n",
              "      <td>NaN</td>\n",
              "      <td>NaN</td>\n",
              "      <td>NaN</td>\n",
              "      <td>NaN</td>\n",
              "      <td>NaN</td>\n",
              "      <td>NaN</td>\n",
              "      <td>NaN</td>\n",
              "      <td>NaN</td>\n",
              "    </tr>\n",
              "    <tr>\n",
              "      <th>5</th>\n",
              "      <td>NaN</td>\n",
              "      <td>NaN</td>\n",
              "      <td>NaN</td>\n",
              "      <td>NaN</td>\n",
              "      <td>NaN</td>\n",
              "      <td>NaN</td>\n",
              "      <td>NaN</td>\n",
              "      <td>NaN</td>\n",
              "      <td>NaN</td>\n",
              "      <td>NaN</td>\n",
              "    </tr>\n",
              "    <tr>\n",
              "      <th>6</th>\n",
              "      <td>NaN</td>\n",
              "      <td>NaN</td>\n",
              "      <td>NaN</td>\n",
              "      <td>NaN</td>\n",
              "      <td>NaN</td>\n",
              "      <td>NaN</td>\n",
              "      <td>NaN</td>\n",
              "      <td>NaN</td>\n",
              "      <td>NaN</td>\n",
              "      <td>NaN</td>\n",
              "    </tr>\n",
              "  </tbody>\n",
              "</table>\n",
              "</div>\n",
              "      <button class=\"colab-df-convert\" onclick=\"convertToInteractive('df-3978d4ea-a544-4cd2-bf29-cec1ff585599')\"\n",
              "              title=\"Convert this dataframe to an interactive table.\"\n",
              "              style=\"display:none;\">\n",
              "        \n",
              "  <svg xmlns=\"http://www.w3.org/2000/svg\" height=\"24px\"viewBox=\"0 0 24 24\"\n",
              "       width=\"24px\">\n",
              "    <path d=\"M0 0h24v24H0V0z\" fill=\"none\"/>\n",
              "    <path d=\"M18.56 5.44l.94 2.06.94-2.06 2.06-.94-2.06-.94-.94-2.06-.94 2.06-2.06.94zm-11 1L8.5 8.5l.94-2.06 2.06-.94-2.06-.94L8.5 2.5l-.94 2.06-2.06.94zm10 10l.94 2.06.94-2.06 2.06-.94-2.06-.94-.94-2.06-.94 2.06-2.06.94z\"/><path d=\"M17.41 7.96l-1.37-1.37c-.4-.4-.92-.59-1.43-.59-.52 0-1.04.2-1.43.59L10.3 9.45l-7.72 7.72c-.78.78-.78 2.05 0 2.83L4 21.41c.39.39.9.59 1.41.59.51 0 1.02-.2 1.41-.59l7.78-7.78 2.81-2.81c.8-.78.8-2.07 0-2.86zM5.41 20L4 18.59l7.72-7.72 1.47 1.35L5.41 20z\"/>\n",
              "  </svg>\n",
              "      </button>\n",
              "      \n",
              "  <style>\n",
              "    .colab-df-container {\n",
              "      display:flex;\n",
              "      flex-wrap:wrap;\n",
              "      gap: 12px;\n",
              "    }\n",
              "\n",
              "    .colab-df-convert {\n",
              "      background-color: #E8F0FE;\n",
              "      border: none;\n",
              "      border-radius: 50%;\n",
              "      cursor: pointer;\n",
              "      display: none;\n",
              "      fill: #1967D2;\n",
              "      height: 32px;\n",
              "      padding: 0 0 0 0;\n",
              "      width: 32px;\n",
              "    }\n",
              "\n",
              "    .colab-df-convert:hover {\n",
              "      background-color: #E2EBFA;\n",
              "      box-shadow: 0px 1px 2px rgba(60, 64, 67, 0.3), 0px 1px 3px 1px rgba(60, 64, 67, 0.15);\n",
              "      fill: #174EA6;\n",
              "    }\n",
              "\n",
              "    [theme=dark] .colab-df-convert {\n",
              "      background-color: #3B4455;\n",
              "      fill: #D2E3FC;\n",
              "    }\n",
              "\n",
              "    [theme=dark] .colab-df-convert:hover {\n",
              "      background-color: #434B5C;\n",
              "      box-shadow: 0px 1px 3px 1px rgba(0, 0, 0, 0.15);\n",
              "      filter: drop-shadow(0px 1px 2px rgba(0, 0, 0, 0.3));\n",
              "      fill: #FFFFFF;\n",
              "    }\n",
              "  </style>\n",
              "\n",
              "      <script>\n",
              "        const buttonEl =\n",
              "          document.querySelector('#df-3978d4ea-a544-4cd2-bf29-cec1ff585599 button.colab-df-convert');\n",
              "        buttonEl.style.display =\n",
              "          google.colab.kernel.accessAllowed ? 'block' : 'none';\n",
              "\n",
              "        async function convertToInteractive(key) {\n",
              "          const element = document.querySelector('#df-3978d4ea-a544-4cd2-bf29-cec1ff585599');\n",
              "          const dataTable =\n",
              "            await google.colab.kernel.invokeFunction('convertToInteractive',\n",
              "                                                     [key], {});\n",
              "          if (!dataTable) return;\n",
              "\n",
              "          const docLinkHtml = 'Like what you see? Visit the ' +\n",
              "            '<a target=\"_blank\" href=https://colab.research.google.com/notebooks/data_table.ipynb>data table notebook</a>'\n",
              "            + ' to learn more about interactive tables.';\n",
              "          element.innerHTML = '';\n",
              "          dataTable['output_type'] = 'display_data';\n",
              "          await google.colab.output.renderOutput(dataTable, element);\n",
              "          const docLink = document.createElement('div');\n",
              "          docLink.innerHTML = docLinkHtml;\n",
              "          element.appendChild(docLink);\n",
              "        }\n",
              "      </script>\n",
              "    </div>\n",
              "  </div>\n",
              "  "
            ]
          },
          "metadata": {},
          "execution_count": 15
        }
      ]
    },
    {
      "cell_type": "code",
      "metadata": {
        "colab": {
          "base_uri": "https://localhost:8080/"
        },
        "id": "iSB8eHPqf-Xc",
        "outputId": "4dd461a6-442e-4b5b-c6ea-4d892d4d65d9"
      },
      "source": [
        "# Define Function to get the most rated movies\n",
        "def get_most_rated_movies(user_movie_ratings, max_number_of_movies):\n",
        "    # 1- Count\n",
        "    user_movie_ratings = user_movie_ratings.append(user_movie_ratings.count(), ignore_index=True)\n",
        "    # 2- sort\n",
        "    user_movie_ratings_sorted = user_movie_ratings.sort_values(len(user_movie_ratings)-1, axis=1, ascending=False)\n",
        "    user_movie_ratings_sorted = user_movie_ratings_sorted.drop(user_movie_ratings_sorted.tail(1).index)\n",
        "    # 3- slice\n",
        "    most_rated_movies = user_movie_ratings_sorted.iloc[:, :max_number_of_movies]\n",
        "    return most_rated_movies\n",
        "\n",
        "# Define function to get the user who rate a movie the most\n",
        "def get_users_who_rate_the_most(most_rated_movies, n_users):\n",
        "    most_rated_movies['num_ratings'] = - most_rated_movies.isnull().sum(axis=1)\n",
        "    most_rated_movies = most_rated_movies.sort_values(by=['num_ratings'], ascending=False)\n",
        "    most_rated_movies = most_rated_movies.iloc[:n_users, :]\n",
        "    most_rated_movies = most_rated_movies.drop('num_ratings', axis=1)\n",
        "    return most_rated_movies\n",
        "\n",
        "# Define the sorting by rating function\n",
        "def sort_by_rating_density(user_movie_ratings, n_movies, n_users):\n",
        "    most_rated_movies = get_most_rated_movies(user_movie_ratings, n_movies)\n",
        "    most_rated_movies = get_users_who_rate_the_most(most_rated_movies, n_users)\n",
        "    return most_rated_movies\n",
        "    \n",
        "# choose the number of movies and users and sort\n",
        "n_movies = 30\n",
        "n_users = 18\n",
        "most_rated_movies_users_selection = sort_by_rating_density(user_movie_ratings, n_movies, n_users)\n",
        "\n",
        "# Print the result\n",
        "# print(most_rated_movies_users_selection)\n",
        "print('dataset dimensions: ', most_rated_movies_users_selection.shape)\n",
        "print(most_rated_movies_users_selection.head())"
      ],
      "execution_count": 16,
      "outputs": [
        {
          "output_type": "stream",
          "name": "stdout",
          "text": [
            "dataset dimensions:  (18, 30)\n",
            "title  Forrest Gump (1994)  Shawshank Redemption, The (1994)  \\\n",
            "413                    5.0                               5.0   \n",
            "589                    5.0                               4.5   \n",
            "473                    3.0                               5.0   \n",
            "479                    5.0                               5.0   \n",
            "67                     3.5                               3.0   \n",
            "\n",
            "title  Pulp Fiction (1994)  Silence of the Lambs, The (1991)  \\\n",
            "413                    5.0                               4.0   \n",
            "589                    4.5                               3.5   \n",
            "473                    4.0                               4.5   \n",
            "479                    4.0                               4.5   \n",
            "67                     2.0                               3.5   \n",
            "\n",
            "title  Matrix, The (1999)  Star Wars: Episode IV - A New Hope (1977)  \\\n",
            "413                   5.0                                        5.0   \n",
            "589                   4.0                                        5.0   \n",
            "473                   4.5                                        4.0   \n",
            "479                   5.0                                        4.5   \n",
            "67                    4.5                                        5.0   \n",
            "\n",
            "title  Jurassic Park (1993)  Braveheart (1995)  \\\n",
            "413                     4.0                5.0   \n",
            "589                     4.0                4.0   \n",
            "473                     4.5                3.0   \n",
            "479                     5.0                5.0   \n",
            "67                      3.5                2.5   \n",
            "\n",
            "title  Terminator 2: Judgment Day (1991)  Schindler's List (1993)  ...  \\\n",
            "413                                  5.0                      4.0  ...   \n",
            "589                                  4.5                      5.0  ...   \n",
            "473                                  4.0                      5.0  ...   \n",
            "479                                  4.5                      5.0  ...   \n",
            "67                                   3.5                      4.0  ...   \n",
            "\n",
            "title  Star Wars: Episode VI - Return of the Jedi (1983)  \\\n",
            "413                                                  5.0   \n",
            "589                                                  4.5   \n",
            "473                                                  4.0   \n",
            "479                                                  3.5   \n",
            "67                                                   5.0   \n",
            "\n",
            "title  Godfather, The (1972)  Fugitive, The (1993)  Batman (1989)  \\\n",
            "413                      5.0                   5.0            4.0   \n",
            "589                      5.0                   4.0            3.5   \n",
            "473                      5.0                   5.0            4.0   \n",
            "479                      5.0                   3.5            4.5   \n",
            "67                       4.0                   4.5            4.0   \n",
            "\n",
            "title  Saving Private Ryan (1998)  \\\n",
            "413                           5.0   \n",
            "589                           4.0   \n",
            "473                           3.0   \n",
            "479                           4.5   \n",
            "67                            4.0   \n",
            "\n",
            "title  Lord of the Rings: The Two Towers, The (2002)  \\\n",
            "413                                              5.0   \n",
            "589                                              5.0   \n",
            "473                                              5.0   \n",
            "479                                              4.5   \n",
            "67                                               4.0   \n",
            "\n",
            "title  Lord of the Rings: The Return of the King, The (2003)  Aladdin (1992)  \\\n",
            "413                                                  4.0                 4.0   \n",
            "589                                                  4.5                 4.0   \n",
            "473                                                  5.0                 4.0   \n",
            "479                                                  4.0                 4.0   \n",
            "67                                                   4.5                 3.5   \n",
            "\n",
            "title  Fargo (1996)  Sixth Sense, The (1999)  \n",
            "413             5.0                      3.0  \n",
            "589             4.0                      3.5  \n",
            "473             4.0                      5.0  \n",
            "479             4.0                      4.0  \n",
            "67              2.5                      2.5  \n",
            "\n",
            "[5 rows x 30 columns]\n"
          ]
        },
        {
          "output_type": "stream",
          "name": "stderr",
          "text": [
            "<ipython-input-16-0640cec50cc9>:4: FutureWarning: The frame.append method is deprecated and will be removed from pandas in a future version. Use pandas.concat instead.\n",
            "  user_movie_ratings = user_movie_ratings.append(user_movie_ratings.count(), ignore_index=True)\n"
          ]
        }
      ]
    },
    {
      "cell_type": "code",
      "metadata": {
        "id": "tMmuIqVxgGAN",
        "colab": {
          "base_uri": "https://localhost:8080/",
          "height": 471
        },
        "outputId": "8a6a6f08-0ec5-441f-90eb-7706aedb2b47"
      },
      "source": [
        "# Define the plotting heatmap function\n",
        "def draw_movies_heatmap(most_rated_movies_users_selection, axis_labels=True):\n",
        "    \n",
        "    fig = plt.figure(figsize=(15,4))\n",
        "    ax = plt.gca()\n",
        "    \n",
        "    # Draw heatmap\n",
        "    heatmap = ax.imshow(most_rated_movies_users_selection,  interpolation='nearest', vmin=0, vmax=5, aspect='auto')\n",
        "    if axis_labels:\n",
        "        ax.set_yticks(np.arange(most_rated_movies_users_selection.shape[0]) , minor=False)\n",
        "        ax.set_xticks(np.arange(most_rated_movies_users_selection.shape[1]) , minor=False)\n",
        "        ax.invert_yaxis()\n",
        "        ax.xaxis.tick_top()\n",
        "        labels = most_rated_movies_users_selection.columns.str[:40]\n",
        "        ax.set_xticklabels(labels, minor=False)\n",
        "        ax.set_yticklabels(most_rated_movies_users_selection.index, minor=False)\n",
        "        plt.setp(ax.get_xticklabels(), rotation=90)\n",
        "    else:\n",
        "        ax.get_xaxis().set_visible(False)\n",
        "        ax.get_yaxis().set_visible(False)\n",
        "    \n",
        "    ax.grid(False)\n",
        "    ax.set_ylabel('User id')# Separate heatmap from color bar\n",
        "    divider = make_axes_locatable(ax)\n",
        "    cax = divider.append_axes(\"right\", size=\"5%\", pad=0.05)# Color bar\n",
        "    cbar = fig.colorbar(heatmap, ticks=[5, 4, 3, 2, 1, 0], cax=cax)\n",
        "    cbar.ax.set_yticklabels(['5 stars', '4 stars','3 stars','2 stars','1 stars','0 stars'])\n",
        "    plt.show()# Print the heatmap\n",
        "draw_movies_heatmap(most_rated_movies_users_selection)"
      ],
      "execution_count": 17,
      "outputs": [
        {
          "output_type": "display_data",
          "data": {
            "text/plain": [
              "<Figure size 1080x288 with 2 Axes>"
            ],
            "image/png": "[encoded data removed]"
          },
          "metadata": {
            "needs_background": "light"
          }
        }
      ]
    },
    {
      "cell_type": "code",
      "metadata": {
        "id": "nTdEC1i5hS-M",
        "colab": {
          "base_uri": "https://localhost:8080/"
        },
        "outputId": "9c32dbb9-319b-40eb-ff31-45580bb215b7"
      },
      "source": [
        "# Pivot the dataset and choose the first 1000 movies\n",
        "user_movie_ratings =  pd.pivot_table(ratings_title, index='userId', columns= 'title', values='rating')\n",
        "most_rated_movies_1k = get_most_rated_movies(user_movie_ratings, 1000).replace(np.nan, 0)"
      ],
      "execution_count": 18,
      "outputs": [
        {
          "output_type": "stream",
          "name": "stderr",
          "text": [
            "<ipython-input-16-0640cec50cc9>:4: FutureWarning: The frame.append method is deprecated and will be removed from pandas in a future version. Use pandas.concat instead.\n",
            "  user_movie_ratings = user_movie_ratings.append(user_movie_ratings.count(), ignore_index=True)\n"
          ]
        }
      ]
    },
    {
      "cell_type": "code",
      "metadata": {
        "id": "YMGpCM8SikyB"
      },
      "source": [
        "from scipy import sparse\n",
        "\n",
        "# Conversion to sparse csr matrix\n",
        "sparse_ratings = sparse.csr_matrix(most_rated_movies_1k.values)"
      ],
      "execution_count": 19,
      "outputs": []
    },
    {
      "cell_type": "markdown",
      "metadata": {
        "id": "5j6M6TL7j5B7"
      },
      "source": [
        "### Large Scale Clustering"
      ]
    },
    {
      "cell_type": "code",
      "metadata": {
        "id": "pcvHmGnZipva",
        "colab": {
          "base_uri": "https://localhost:8080/"
        },
        "outputId": "441e0104-5a60-4b57-c0ef-8776539c30b5"
      },
      "source": [
        "# 20 clusters\n",
        "predictions = KMeans(n_clusters=20, algorithm='full').fit_predict(sparse_ratings)\n",
        "# Select the mas number of users and movies heatmap cluster\n",
        "# Cluster and print some of them\n",
        "clustered = pd.concat([get_most_rated_movies(user_movie_ratings, 1000).reset_index(), pd.DataFrame({'group':predictions})], axis=1)\n",
        "# draw_movie_clusters(clustered, max_users, max_movies)"
      ],
      "execution_count": 20,
      "outputs": [
        {
          "output_type": "stream",
          "name": "stderr",
          "text": [
            "/usr/local/lib/python3.9/dist-packages/sklearn/cluster/_kmeans.py:870: FutureWarning: The default value of `n_init` will change from 10 to 'auto' in 1.4. Set the value of `n_init` explicitly to suppress the warning\n",
            "  warnings.warn(\n",
            "/usr/local/lib/python3.9/dist-packages/sklearn/cluster/_kmeans.py:1366: FutureWarning: algorithm='full' is deprecated, it will be removed in 1.3. Using 'lloyd' instead.\n",
            "  warnings.warn(\n",
            "<ipython-input-16-0640cec50cc9>:4: FutureWarning: The frame.append method is deprecated and will be removed from pandas in a future version. Use pandas.concat instead.\n",
            "  user_movie_ratings = user_movie_ratings.append(user_movie_ratings.count(), ignore_index=True)\n"
          ]
        }
      ]
    },
    {
      "cell_type": "markdown",
      "metadata": {
        "id": "wr82U3hYo7gg"
      },
      "source": [
        "### Predictions and Recommendation "
      ]
    },
    {
      "cell_type": "code",
      "metadata": {
        "colab": {
          "base_uri": "https://localhost:8080/",
          "height": 1000
        },
        "id": "KSx-kAa2j9rJ",
        "outputId": "c6949fc7-57ae-4f72-c626-f173490fbefd"
      },
      "source": [
        "# Pick a cluster ID from the clusters above\n",
        "cluster_number = 11\n",
        "# Let's filter to only see the region of the dataset with the most number of values \n",
        "n_users = 75\n",
        "n_movies = 300\n",
        "cluster = clustered[clustered.group == cluster_number].drop(['index', 'group'], axis=1)\n",
        "print(cluster)\n",
        "# Sort and print the cluster\n",
        "cluster = sort_by_rating_density(cluster, n_movies, n_users)\n",
        "draw_movies_heatmap(cluster, axis_labels=False)"
      ],
      "execution_count": 21,
      "outputs": [
        {
          "output_type": "stream",
          "name": "stderr",
          "text": [
            "<ipython-input-16-0640cec50cc9>:4: FutureWarning: The frame.append method is deprecated and will be removed from pandas in a future version. Use pandas.concat instead.\n",
            "  user_movie_ratings = user_movie_ratings.append(user_movie_ratings.count(), ignore_index=True)\n"
          ]
        },
        {
          "output_type": "stream",
          "name": "stdout",
          "text": [
            "     Forrest Gump (1994)  Shawshank Redemption, The (1994)  \\\n",
            "14                   5.0                               5.0   \n",
            "23                   4.5                               4.5   \n",
            "29                   NaN                               5.0   \n",
            "51                   5.0                               5.0   \n",
            "72                   NaN                               NaN   \n",
            "79                   NaN                               5.0   \n",
            "111                  3.5                               NaN   \n",
            "118                  4.0                               4.5   \n",
            "122                  NaN                               4.0   \n",
            "138                  NaN                               NaN   \n",
            "140                  4.0                               4.0   \n",
            "209                  NaN                               NaN   \n",
            "210                  4.5                               5.0   \n",
            "211                  3.5                               4.5   \n",
            "226                  5.0                               4.0   \n",
            "245                  3.5                               NaN   \n",
            "246                  5.0                               4.5   \n",
            "255                  NaN                               5.0   \n",
            "278                  3.0                               4.5   \n",
            "351                  5.0                               5.0   \n",
            "377                  NaN                               4.5   \n",
            "381                  4.5                               5.0   \n",
            "392                  NaN                               NaN   \n",
            "407                  NaN                               4.5   \n",
            "431                  4.5                               3.0   \n",
            "465                  5.0                               3.0   \n",
            "474                  NaN                               NaN   \n",
            "521                  3.5                               5.0   \n",
            "550                  4.5                               4.0   \n",
            "566                  3.0                               NaN   \n",
            "581                  NaN                               NaN   \n",
            "585                  NaN                               5.0   \n",
            "600                  NaN                               5.0   \n",
            "\n",
            "     Pulp Fiction (1994)  Silence of the Lambs, The (1991)  \\\n",
            "14                   4.0                               NaN   \n",
            "23                   4.0                               4.5   \n",
            "29                   NaN                               NaN   \n",
            "51                   NaN                               NaN   \n",
            "72                   NaN                               NaN   \n",
            "79                   NaN                               5.0   \n",
            "111                  NaN                               4.0   \n",
            "118                  4.0                               NaN   \n",
            "122                  4.0                               4.0   \n",
            "138                  NaN                               NaN   \n",
            "140                  4.0                               NaN   \n",
            "209                  0.5                               NaN   \n",
            "210                  4.5                               NaN   \n",
            "211                  3.5                               3.5   \n",
            "226                  4.5                               4.5   \n",
            "245                  4.0                               NaN   \n",
            "246                  4.0                               4.0   \n",
            "255                  NaN                               4.5   \n",
            "278                  5.0                               4.0   \n",
            "351                  5.0                               4.0   \n",
            "377                  NaN                               4.5   \n",
            "381                  5.0                               5.0   \n",
            "392                  NaN                               NaN   \n",
            "407                  NaN                               NaN   \n",
            "431                  2.5                               4.0   \n",
            "465                  NaN                               NaN   \n",
            "474                  NaN                               NaN   \n",
            "521                  5.0                               NaN   \n",
            "550                  3.5                               4.5   \n",
            "566                  NaN                               NaN   \n",
            "581                  NaN                               4.0   \n",
            "585                  NaN                               NaN   \n",
            "600                  NaN                               NaN   \n",
            "\n",
            "     Matrix, The (1999)  Star Wars: Episode IV - A New Hope (1977)  \\\n",
            "14                  4.0                                        5.0   \n",
            "23                  4.0                                        NaN   \n",
            "29                  5.0                                        5.0   \n",
            "51                  5.0                                        4.0   \n",
            "72                  NaN                                        2.0   \n",
            "79                  4.5                                        NaN   \n",
            "111                 5.0                                        5.0   \n",
            "118                 4.0                                        NaN   \n",
            "122                 4.0                                        4.5   \n",
            "138                 NaN                                        4.0   \n",
            "140                 3.5                                        4.0   \n",
            "209                 5.0                                        5.0   \n",
            "210                 5.0                                        4.5   \n",
            "211                 3.0                                        2.5   \n",
            "226                 4.5                                        3.5   \n",
            "245                 5.0                                        5.0   \n",
            "246                 3.5                                        4.0   \n",
            "255                 4.5                                        4.0   \n",
            "278                 4.5                                        5.0   \n",
            "351                 4.5                                        4.0   \n",
            "377                 NaN                                        NaN   \n",
            "381                 5.0                                        5.0   \n",
            "392                 5.0                                        NaN   \n",
            "407                 4.5                                        4.0   \n",
            "431                 3.5                                        3.5   \n",
            "465                 4.0                                        1.5   \n",
            "474                 4.5                                        5.0   \n",
            "521                 4.0                                        5.0   \n",
            "550                 4.0                                        3.5   \n",
            "566                 NaN                                        2.0   \n",
            "581                 5.0                                        4.0   \n",
            "585                 5.0                                        4.5   \n",
            "600                 5.0                                        NaN   \n",
            "\n",
            "     Jurassic Park (1993)  Braveheart (1995)  \\\n",
            "14                    NaN                NaN   \n",
            "23                    NaN                NaN   \n",
            "29                    NaN                5.0   \n",
            "51                    NaN                NaN   \n",
            "72                    NaN                NaN   \n",
            "79                    NaN                NaN   \n",
            "111                   5.0                3.5   \n",
            "118                   NaN                NaN   \n",
            "122                   NaN                NaN   \n",
            "138                   NaN                NaN   \n",
            "140                   3.0                3.5   \n",
            "209                   NaN                NaN   \n",
            "210                   NaN                NaN   \n",
            "211                   3.0                NaN   \n",
            "226                   NaN                3.5   \n",
            "245                   NaN                NaN   \n",
            "246                   4.5                4.0   \n",
            "255                   NaN                NaN   \n",
            "278                   4.0                4.0   \n",
            "351                   NaN                NaN   \n",
            "377                   NaN                NaN   \n",
            "381                   NaN                NaN   \n",
            "392                   NaN                4.0   \n",
            "407                   NaN                NaN   \n",
            "431                   4.5                4.0   \n",
            "465                   NaN                NaN   \n",
            "474                   NaN                NaN   \n",
            "521                   3.5                4.0   \n",
            "550                   NaN                3.5   \n",
            "566                   2.0                NaN   \n",
            "581                   NaN                NaN   \n",
            "585                   NaN                5.0   \n",
            "600                   NaN                NaN   \n",
            "\n",
            "     Terminator 2: Judgment Day (1991)  Schindler's List (1993)  ...  \\\n",
            "14                                 5.0                      5.0  ...   \n",
            "23                                 NaN                      NaN  ...   \n",
            "29                                 3.5                      NaN  ...   \n",
            "51                                 NaN                      NaN  ...   \n",
            "72                                 NaN                      NaN  ...   \n",
            "79                                 NaN                      NaN  ...   \n",
            "111                                NaN                      NaN  ...   \n",
            "118                                NaN                      NaN  ...   \n",
            "122                                NaN                      NaN  ...   \n",
            "138                                NaN                      NaN  ...   \n",
            "140                                NaN                      NaN  ...   \n",
            "209                                4.0                      NaN  ...   \n",
            "210                                NaN                      NaN  ...   \n",
            "211                                4.0                      NaN  ...   \n",
            "226                                3.5                      4.0  ...   \n",
            "245                                5.0                      NaN  ...   \n",
            "246                                3.5                      4.0  ...   \n",
            "255                                NaN                      NaN  ...   \n",
            "278                                4.0                      NaN  ...   \n",
            "351                                NaN                      5.0  ...   \n",
            "377                                NaN                      4.5  ...   \n",
            "381                                NaN                      5.0  ...   \n",
            "392                                0.5                      NaN  ...   \n",
            "407                                NaN                      NaN  ...   \n",
            "431                                3.5                      4.5  ...   \n",
            "465                                NaN                      NaN  ...   \n",
            "474                                5.0                      NaN  ...   \n",
            "521                                NaN                      NaN  ...   \n",
            "550                                4.0                      NaN  ...   \n",
            "566                                NaN                      NaN  ...   \n",
            "581                                NaN                      NaN  ...   \n",
            "585                                5.0                      2.5  ...   \n",
            "600                                NaN                      5.0  ...   \n",
            "\n",
            "     Scary Movie 2 (2001)  About Schmidt (2002)  21 Jump Street (2012)  \\\n",
            "14                    NaN                   NaN                    NaN   \n",
            "23                    NaN                   NaN                    NaN   \n",
            "29                    NaN                   NaN                    5.0   \n",
            "51                    NaN                   NaN                    NaN   \n",
            "72                    NaN                   NaN                    4.5   \n",
            "79                    NaN                   NaN                    NaN   \n",
            "111                   NaN                   NaN                    NaN   \n",
            "118                   NaN                   NaN                    NaN   \n",
            "122                   NaN                   NaN                    NaN   \n",
            "138                   NaN                   NaN                    NaN   \n",
            "140                   NaN                   NaN                    NaN   \n",
            "209                   NaN                   NaN                    NaN   \n",
            "210                   NaN                   NaN                    NaN   \n",
            "211                   NaN                   NaN                    4.0   \n",
            "226                   NaN                   NaN                    NaN   \n",
            "245                   NaN                   NaN                    NaN   \n",
            "246                   NaN                   NaN                    NaN   \n",
            "255                   3.0                   NaN                    NaN   \n",
            "278                   NaN                   NaN                    NaN   \n",
            "351                   NaN                   NaN                    2.0   \n",
            "377                   NaN                   NaN                    NaN   \n",
            "381                   NaN                   NaN                    NaN   \n",
            "392                   NaN                   NaN                    NaN   \n",
            "407                   NaN                   NaN                    NaN   \n",
            "431                   NaN                   NaN                    NaN   \n",
            "465                   NaN                   NaN                    NaN   \n",
            "474                   NaN                   NaN                    NaN   \n",
            "521                   NaN                   NaN                    NaN   \n",
            "550                   NaN                   NaN                    NaN   \n",
            "566                   NaN                   NaN                    NaN   \n",
            "581                   NaN                   NaN                    NaN   \n",
            "585                   NaN                   NaN                    NaN   \n",
            "600                   NaN                   NaN                    NaN   \n",
            "\n",
            "     Cider House Rules, The (1999)  Death Proof (2007)  Moonraker (1979)  \\\n",
            "14                             NaN                 NaN               NaN   \n",
            "23                             NaN                 NaN               NaN   \n",
            "29                             NaN                 NaN               NaN   \n",
            "51                             NaN                 NaN               NaN   \n",
            "72                             NaN                 NaN               NaN   \n",
            "79                             NaN                 NaN               NaN   \n",
            "111                            NaN                 NaN               NaN   \n",
            "118                            NaN                 NaN               NaN   \n",
            "122                            NaN                 NaN               NaN   \n",
            "138                            NaN                 1.0               NaN   \n",
            "140                            NaN                 NaN               NaN   \n",
            "209                            NaN                 NaN               NaN   \n",
            "210                            NaN                 NaN               4.5   \n",
            "211                            NaN                 4.5               NaN   \n",
            "226                            NaN                 NaN               NaN   \n",
            "245                            NaN                 NaN               NaN   \n",
            "246                            NaN                 NaN               NaN   \n",
            "255                            NaN                 NaN               NaN   \n",
            "278                            NaN                 NaN               NaN   \n",
            "351                            NaN                 NaN               NaN   \n",
            "377                            NaN                 NaN               NaN   \n",
            "381                            NaN                 NaN               3.5   \n",
            "392                            NaN                 NaN               NaN   \n",
            "407                            NaN                 NaN               NaN   \n",
            "431                            NaN                 NaN               NaN   \n",
            "465                            NaN                 NaN               NaN   \n",
            "474                            NaN                 NaN               NaN   \n",
            "521                            NaN                 NaN               NaN   \n",
            "550                            NaN                 NaN               NaN   \n",
            "566                            NaN                 NaN               NaN   \n",
            "581                            NaN                 NaN               NaN   \n",
            "585                            NaN                 NaN               NaN   \n",
            "600                            NaN                 NaN               NaN   \n",
            "\n",
            "     Virgin Suicides, The (1999)  ¡Three Amigos! (1986)  \\\n",
            "14                           NaN                    NaN   \n",
            "23                           2.0                    NaN   \n",
            "29                           NaN                    NaN   \n",
            "51                           NaN                    NaN   \n",
            "72                           NaN                    NaN   \n",
            "79                           NaN                    NaN   \n",
            "111                          NaN                    NaN   \n",
            "118                          NaN                    NaN   \n",
            "122                          NaN                    NaN   \n",
            "138                          NaN                    NaN   \n",
            "140                          NaN                    3.5   \n",
            "209                          NaN                    NaN   \n",
            "210                          NaN                    NaN   \n",
            "211                          NaN                    NaN   \n",
            "226                          NaN                    NaN   \n",
            "245                          3.0                    NaN   \n",
            "246                          NaN                    NaN   \n",
            "255                          NaN                    NaN   \n",
            "278                          NaN                    NaN   \n",
            "351                          NaN                    NaN   \n",
            "377                          NaN                    NaN   \n",
            "381                          NaN                    NaN   \n",
            "392                          NaN                    NaN   \n",
            "407                          NaN                    NaN   \n",
            "431                          NaN                    NaN   \n",
            "465                          NaN                    NaN   \n",
            "474                          NaN                    NaN   \n",
            "521                          NaN                    NaN   \n",
            "550                          NaN                    NaN   \n",
            "566                          NaN                    NaN   \n",
            "581                          NaN                    NaN   \n",
            "585                          NaN                    NaN   \n",
            "600                          NaN                    NaN   \n",
            "\n",
            "     Waking Ned Devine (a.k.a. Waking Ned) (1998)  Jacob's Ladder (1990)  \n",
            "14                                            NaN                    NaN  \n",
            "23                                            NaN                    NaN  \n",
            "29                                            NaN                    NaN  \n",
            "51                                            NaN                    NaN  \n",
            "72                                            NaN                    NaN  \n",
            "79                                            NaN                    NaN  \n",
            "111                                           NaN                    NaN  \n",
            "118                                           NaN                    NaN  \n",
            "122                                           NaN                    NaN  \n",
            "138                                           NaN                    NaN  \n",
            "140                                           NaN                    NaN  \n",
            "209                                           NaN                    NaN  \n",
            "210                                           NaN                    NaN  \n",
            "211                                           NaN                    NaN  \n",
            "226                                           NaN                    NaN  \n",
            "245                                           NaN                    NaN  \n",
            "246                                           NaN                    NaN  \n",
            "255                                           NaN                    NaN  \n",
            "278                                           NaN                    NaN  \n",
            "351                                           NaN                    NaN  \n",
            "377                                           NaN                    NaN  \n",
            "381                                           NaN                    NaN  \n",
            "392                                           NaN                    NaN  \n",
            "407                                           NaN                    NaN  \n",
            "431                                           NaN                    NaN  \n",
            "465                                           NaN                    NaN  \n",
            "474                                           NaN                    NaN  \n",
            "521                                           NaN                    NaN  \n",
            "550                                           NaN                    NaN  \n",
            "566                                           NaN                    NaN  \n",
            "581                                           NaN                    NaN  \n",
            "585                                           NaN                    NaN  \n",
            "600                                           NaN                    NaN  \n",
            "\n",
            "[33 rows x 1000 columns]\n"
          ]
        },
        {
          "output_type": "display_data",
          "data": {
            "text/plain": [
              "<Figure size 1080x288 with 2 Axes>"
            ],
            "image/png": "[encoded data removed]"
          },
          "metadata": {
            "needs_background": "light"
          }
        }
      ]
    },
    {
      "cell_type": "code",
      "metadata": {
        "colab": {
          "base_uri": "https://localhost:8080/"
        },
        "id": "K1H3vAespxSf",
        "outputId": "cc391b1c-183d-492b-8d89-6a54f48ae7d8"
      },
      "source": [
        "# Fill in the name of the column/movie. e.g. 'Forrest Gump (1994)'\n",
        "movie_name = \"Matrix, The (1999)\"\n",
        "cluster[movie_name].mean()"
      ],
      "execution_count": 22,
      "outputs": [
        {
          "output_type": "execute_result",
          "data": {
            "text/plain": [
              "4.413793103448276"
            ]
          },
          "metadata": {},
          "execution_count": 22
        }
      ]
    },
    {
      "cell_type": "code",
      "metadata": {
        "colab": {
          "base_uri": "https://localhost:8080/"
        },
        "id": "4eaBbILNpsWA",
        "outputId": "7182ea82-539e-4566-dfff-cc7b17263baf"
      },
      "source": [
        "# The average rating of 20 movies as rated by the users in the cluster\n",
        "cluster.mean().head(20)"
      ],
      "execution_count": 23,
      "outputs": [
        {
          "output_type": "execute_result",
          "data": {
            "text/plain": [
              "Matrix, The (1999)                                                                4.413793\n",
              "Inception (2010)                                                                  4.196429\n",
              "Dark Knight, The (2008)                                                           4.267857\n",
              "Lord of the Rings: The Return of the King, The (2003)                             4.277778\n",
              "Star Wars: Episode IV - A New Hope (1977)                                         4.037037\n",
              "Lord of the Rings: The Fellowship of the Ring, The (2001)                         4.192308\n",
              "Iron Man (2008)                                                                   3.865385\n",
              "Lord of the Rings: The Two Towers, The (2002)                                     4.200000\n",
              "Star Wars: Episode V - The Empire Strikes Back (1980)                             4.187500\n",
              "Shawshank Redemption, The (1994)                                                  4.520833\n",
              "Avatar (2009)                                                                     3.304348\n",
              "Avengers, The (2012)                                                              4.000000\n",
              "Raiders of the Lost Ark (Indiana Jones and the Raiders of the Lost Ark) (1981)    4.204545\n",
              "Dark Knight Rises, The (2012)                                                     4.272727\n",
              "Up (2009)                                                                         4.136364\n",
              "Fight Club (1999)                                                                 4.380952\n",
              "Bourne Ultimatum, The (2007)                                                      3.904762\n",
              "Star Wars: Episode VI - Return of the Jedi (1983)                                 4.225000\n",
              "Forrest Gump (1994)                                                               4.236842\n",
              "Interstellar (2014)                                                               4.342105\n",
              "dtype: float64"
            ]
          },
          "metadata": {},
          "execution_count": 23
        }
      ]
    },
    {
      "cell_type": "code",
      "metadata": {
        "colab": {
          "base_uri": "https://localhost:8080/"
        },
        "id": "4VKa3_ZiyeGg",
        "outputId": "7e34d28b-0541-4e28-f5be-e4c42b5c2c74"
      },
      "source": [
        "# Predict for a specific user\n",
        "\n",
        "# Pick a user ID from the dataset\n",
        "user_id = 19\n",
        "# Get all this user's ratings\n",
        "user_2_ratings  = cluster.loc[user_id, :]\n",
        "# Which movies did they not rate? \n",
        "user_2_unrated_movies =  user_2_ratings[user_2_ratings.isnull()]\n",
        "# What are the ratings of these movies the user did not rate?\n",
        "avg_ratings = pd.concat([user_2_unrated_movies, cluster.mean()], axis=1, join='inner').loc[:,0]\n",
        "# Let's sort by rating so the highest rated movies are presented first\n",
        "avg_ratings.sort_values(ascending=False)[:20]"
      ],
      "execution_count": 24,
      "outputs": [
        {
          "output_type": "execute_result",
          "data": {
            "text/plain": [
              "Back to the Future Part II (1989)                     4.900000\n",
              "Intouchables (2011)                                   4.833333\n",
              "The Count of Monte Cristo (2002)                      4.800000\n",
              "Howl's Moving Castle (Hauru no ugoku shiro) (2004)    4.750000\n",
              "Donnie Darko (2001)                                   4.583333\n",
              "One Flew Over the Cuckoo's Nest (1975)                4.500000\n",
              "Ocean's Eleven (2001)                                 4.454545\n",
              "Eternal Sunshine of the Spotless Mind (2004)          4.428571\n",
              "In Bruges (2008)                                      4.416667\n",
              "Stranger than Fiction (2006)                          4.416667\n",
              "Watchmen (2009)                                       4.400000\n",
              "Star Trek: First Contact (1996)                       4.400000\n",
              "Serenity (2005)                                       4.400000\n",
              "Beautiful Mind, A (2001)                              4.363636\n",
              "Casino Royale (2006)                                  4.333333\n",
              "Tropic Thunder (2008)                                 4.300000\n",
              "Casablanca (1942)                                     4.300000\n",
              "Spider-Man 2 (2004)                                   4.300000\n",
              "Scott Pilgrim vs. the World (2010)                    4.300000\n",
              "Star Wars: Episode VII - The Force Awakens (2015)     4.272727\n",
              "Name: 0, dtype: float64"
            ]
          },
          "metadata": {},
          "execution_count": 24
        }
      ]
    },
    {
      "cell_type": "markdown",
      "metadata": {
        "id": "w4SISKyey5rb"
      },
      "source": [
        "## Using Collaborative Filtering (With fast.ai)"
      ]
    },
    {
      "cell_type": "code",
      "metadata": {
        "id": "Eh_wLcmh4nFi"
      },
      "source": [
        "! [ -e /content ] && pip install -Uqq fastai"
      ],
      "execution_count": 25,
      "outputs": []
    },
    {
      "cell_type": "code",
      "metadata": {
        "id": "_GQhuh1QzBO-"
      },
      "source": [
        "from fastai.tabular.all import *\n",
        "from fastai.collab import *"
      ],
      "execution_count": 26,
      "outputs": []
    },
    {
      "cell_type": "markdown",
      "metadata": {
        "id": "_C6VqNfy5KGG"
      },
      "source": [
        "### Training a model"
      ]
    },
    {
      "cell_type": "markdown",
      "metadata": {
        "id": "vVnoQsA25KGH"
      },
      "source": [
        "For this, we will use the [Movielens 100k data dataset](https://grouplens.org/datasets/movielens/100k/). We can download it easily and decompress it with the following function:"
      ]
    },
    {
      "cell_type": "code",
      "metadata": {
        "id": "WSpPNWVo5KGI",
        "colab": {
          "base_uri": "https://localhost:8080/",
          "height": 37
        },
        "outputId": "852b0914-c605-4fb9-809e-3caa09af0974"
      },
      "source": [
        "path = untar_data(URLs.ML_100k)"
      ],
      "execution_count": 27,
      "outputs": [
        {
          "output_type": "display_data",
          "data": {
            "text/plain": [
              "<IPython.core.display.HTML object>"
            ],
            "text/html": [
              "\n",
              "<style>\n",
              "    /* Turns off some styling */\n",
              "    progress {\n",
              "        /* gets rid of default border in Firefox and Opera. */\n",
              "        border: none;\n",
              "        /* Needs to be in here for Safari polyfill so background images work as expected. */\n",
              "        background-size: auto;\n",
              "    }\n",
              "    progress:not([value]), progress:not([value])::-webkit-progress-bar {\n",
              "        background: repeating-linear-gradient(45deg, #7e7e7e, #7e7e7e 10px, #5c5c5c 10px, #5c5c5c 20px);\n",
              "    }\n",
              "    .progress-bar-interrupted, .progress-bar-interrupted::-webkit-progress-bar {\n",
              "        background: #F44336;\n",
              "    }\n",
              "</style>\n"
            ]
          },
          "metadata": {}
        },
        {
          "output_type": "display_data",
          "data": {
            "text/plain": [
              "<IPython.core.display.HTML object>"
            ],
            "text/html": [
              "\n",
              "    <div>\n",
              "      <progress value='4931584' class='' max='4924029' style='width:300px; height:20px; vertical-align: middle;'></progress>\n",
              "      100.15% [4931584/4924029 00:00&lt;00:00]\n",
              "    </div>\n",
              "    "
            ]
          },
          "metadata": {}
        }
      ]
    },
    {
      "cell_type": "markdown",
      "metadata": {
        "id": "_ryXnRG55KGJ"
      },
      "source": [
        "The main table is in `u.data`. Since it's not a proper csv, we have to specify a few things while opening it: the tab delimiter, the columns we want to keep and their names."
      ]
    },
    {
      "cell_type": "code",
      "metadata": {
        "id": "9aIeuyeJ5KGL",
        "colab": {
          "base_uri": "https://localhost:8080/",
          "height": 206
        },
        "outputId": "58bd59c4-e7c3-4eae-a252-926252e03ae3"
      },
      "source": [
        "ratings = pd.read_csv(path/'u.data', delimiter='\\t', header=None,\n",
        "                      usecols=(0,1,2), names=['user','movie','rating'])\n",
        "ratings.head()"
      ],
      "execution_count": 28,
      "outputs": [
        {
          "output_type": "execute_result",
          "data": {
            "text/plain": [
              "   user  movie  rating\n",
              "0   196    242       3\n",
              "1   186    302       3\n",
              "2    22    377       1\n",
              "3   244     51       2\n",
              "4   166    346       1"
            ],
            "text/html": [
              "\n",
              "  <div id=\"df-f53ea294-cef8-44c0-aa9a-83509ff6418e\">\n",
              "    <div class=\"colab-df-container\">\n",
              "      <div>\n",
              "<style scoped>\n",
              "    .dataframe tbody tr th:only-of-type {\n",
              "        vertical-align: middle;\n",
              "    }\n",
              "\n",
              "    .dataframe tbody tr th {\n",
              "        vertical-align: top;\n",
              "    }\n",
              "\n",
              "    .dataframe thead th {\n",
              "        text-align: right;\n",
              "    }\n",
              "</style>\n",
              "<table border=\"1\" class=\"dataframe\">\n",
              "  <thead>\n",
              "    <tr style=\"text-align: right;\">\n",
              "      <th></th>\n",
              "      <th>user</th>\n",
              "      <th>movie</th>\n",
              "      <th>rating</th>\n",
              "    </tr>\n",
              "  </thead>\n",
              "  <tbody>\n",
              "    <tr>\n",
              "      <th>0</th>\n",
              "      <td>196</td>\n",
              "      <td>242</td>\n",
              "      <td>3</td>\n",
              "    </tr>\n",
              "    <tr>\n",
              "      <th>1</th>\n",
              "      <td>186</td>\n",
              "      <td>302</td>\n",
              "      <td>3</td>\n",
              "    </tr>\n",
              "    <tr>\n",
              "      <th>2</th>\n",
              "      <td>22</td>\n",
              "      <td>377</td>\n",
              "      <td>1</td>\n",
              "    </tr>\n",
              "    <tr>\n",
              "      <th>3</th>\n",
              "      <td>244</td>\n",
              "      <td>51</td>\n",
              "      <td>2</td>\n",
              "    </tr>\n",
              "    <tr>\n",
              "      <th>4</th>\n",
              "      <td>166</td>\n",
              "      <td>346</td>\n",
              "      <td>1</td>\n",
              "    </tr>\n",
              "  </tbody>\n",
              "</table>\n",
              "</div>\n",
              "      <button class=\"colab-df-convert\" onclick=\"convertToInteractive('df-f53ea294-cef8-44c0-aa9a-83509ff6418e')\"\n",
              "              title=\"Convert this dataframe to an interactive table.\"\n",
              "              style=\"display:none;\">\n",
              "        \n",
              "  <svg xmlns=\"http://www.w3.org/2000/svg\" height=\"24px\"viewBox=\"0 0 24 24\"\n",
              "       width=\"24px\">\n",
              "    <path d=\"M0 0h24v24H0V0z\" fill=\"none\"/>\n",
              "    <path d=\"M18.56 5.44l.94 2.06.94-2.06 2.06-.94-2.06-.94-.94-2.06-.94 2.06-2.06.94zm-11 1L8.5 8.5l.94-2.06 2.06-.94-2.06-.94L8.5 2.5l-.94 2.06-2.06.94zm10 10l.94 2.06.94-2.06 2.06-.94-2.06-.94-.94-2.06-.94 2.06-2.06.94z\"/><path d=\"M17.41 7.96l-1.37-1.37c-.4-.4-.92-.59-1.43-.59-.52 0-1.04.2-1.43.59L10.3 9.45l-7.72 7.72c-.78.78-.78 2.05 0 2.83L4 21.41c.39.39.9.59 1.41.59.51 0 1.02-.2 1.41-.59l7.78-7.78 2.81-2.81c.8-.78.8-2.07 0-2.86zM5.41 20L4 18.59l7.72-7.72 1.47 1.35L5.41 20z\"/>\n",
              "  </svg>\n",
              "      </button>\n",
              "      \n",
              "  <style>\n",
              "    .colab-df-container {\n",
              "      display:flex;\n",
              "      flex-wrap:wrap;\n",
              "      gap: 12px;\n",
              "    }\n",
              "\n",
              "    .colab-df-convert {\n",
              "      background-color: #E8F0FE;\n",
              "      border: none;\n",
              "      border-radius: 50%;\n",
              "      cursor: pointer;\n",
              "      display: none;\n",
              "      fill: #1967D2;\n",
              "      height: 32px;\n",
              "      padding: 0 0 0 0;\n",
              "      width: 32px;\n",
              "    }\n",
              "\n",
              "    .colab-df-convert:hover {\n",
              "      background-color: #E2EBFA;\n",
              "      box-shadow: 0px 1px 2px rgba(60, 64, 67, 0.3), 0px 1px 3px 1px rgba(60, 64, 67, 0.15);\n",
              "      fill: #174EA6;\n",
              "    }\n",
              "\n",
              "    [theme=dark] .colab-df-convert {\n",
              "      background-color: #3B4455;\n",
              "      fill: #D2E3FC;\n",
              "    }\n",
              "\n",
              "    [theme=dark] .colab-df-convert:hover {\n",
              "      background-color: #434B5C;\n",
              "      box-shadow: 0px 1px 3px 1px rgba(0, 0, 0, 0.15);\n",
              "      filter: drop-shadow(0px 1px 2px rgba(0, 0, 0, 0.3));\n",
              "      fill: #FFFFFF;\n",
              "    }\n",
              "  </style>\n",
              "\n",
              "      <script>\n",
              "        const buttonEl =\n",
              "          document.querySelector('#df-f53ea294-cef8-44c0-aa9a-83509ff6418e button.colab-df-convert');\n",
              "        buttonEl.style.display =\n",
              "          google.colab.kernel.accessAllowed ? 'block' : 'none';\n",
              "\n",
              "        async function convertToInteractive(key) {\n",
              "          const element = document.querySelector('#df-f53ea294-cef8-44c0-aa9a-83509ff6418e');\n",
              "          const dataTable =\n",
              "            await google.colab.kernel.invokeFunction('convertToInteractive',\n",
              "                                                     [key], {});\n",
              "          if (!dataTable) return;\n",
              "\n",
              "          const docLinkHtml = 'Like what you see? Visit the ' +\n",
              "            '<a target=\"_blank\" href=https://colab.research.google.com/notebooks/data_table.ipynb>data table notebook</a>'\n",
              "            + ' to learn more about interactive tables.';\n",
              "          element.innerHTML = '';\n",
              "          dataTable['output_type'] = 'display_data';\n",
              "          await google.colab.output.renderOutput(dataTable, element);\n",
              "          const docLink = document.createElement('div');\n",
              "          docLink.innerHTML = docLinkHtml;\n",
              "          element.appendChild(docLink);\n",
              "        }\n",
              "      </script>\n",
              "    </div>\n",
              "  </div>\n",
              "  "
            ]
          },
          "metadata": {},
          "execution_count": 28
        }
      ]
    },
    {
      "cell_type": "markdown",
      "metadata": {
        "id": "g0FSMvM05KGP"
      },
      "source": [
        "Movie ids are not ideal to look at things, so we load the corresponding movie id to the title that is in the table `u.item`:"
      ]
    },
    {
      "cell_type": "code",
      "metadata": {
        "id": "y3y_V-da5KGQ",
        "colab": {
          "base_uri": "https://localhost:8080/",
          "height": 206
        },
        "outputId": "dc959a7b-7259-4150-837f-aff0b8eb127d"
      },
      "source": [
        "movies = pd.read_csv(path/'u.item',  delimiter='|', encoding='latin-1',\n",
        "                     usecols=(0,1), names=('movie','title'), header=None)\n",
        "movies.head()"
      ],
      "execution_count": 29,
      "outputs": [
        {
          "output_type": "execute_result",
          "data": {
            "text/plain": [
              "   movie              title\n",
              "0      1   Toy Story (1995)\n",
              "1      2   GoldenEye (1995)\n",
              "2      3  Four Rooms (1995)\n",
              "3      4  Get Shorty (1995)\n",
              "4      5     Copycat (1995)"
            ],
            "text/html": [
              "\n",
              "  <div id=\"df-227223c6-46cf-4910-8906-ce6851047498\">\n",
              "    <div class=\"colab-df-container\">\n",
              "      <div>\n",
              "<style scoped>\n",
              "    .dataframe tbody tr th:only-of-type {\n",
              "        vertical-align: middle;\n",
              "    }\n",
              "\n",
              "    .dataframe tbody tr th {\n",
              "        vertical-align: top;\n",
              "    }\n",
              "\n",
              "    .dataframe thead th {\n",
              "        text-align: right;\n",
              "    }\n",
              "</style>\n",
              "<table border=\"1\" class=\"dataframe\">\n",
              "  <thead>\n",
              "    <tr style=\"text-align: right;\">\n",
              "      <th></th>\n",
              "      <th>movie</th>\n",
              "      <th>title</th>\n",
              "    </tr>\n",
              "  </thead>\n",
              "  <tbody>\n",
              "    <tr>\n",
              "      <th>0</th>\n",
              "      <td>1</td>\n",
              "      <td>Toy Story (1995)</td>\n",
              "    </tr>\n",
              "    <tr>\n",
              "      <th>1</th>\n",
              "      <td>2</td>\n",
              "      <td>GoldenEye (1995)</td>\n",
              "    </tr>\n",
              "    <tr>\n",
              "      <th>2</th>\n",
              "      <td>3</td>\n",
              "      <td>Four Rooms (1995)</td>\n",
              "    </tr>\n",
              "    <tr>\n",
              "      <th>3</th>\n",
              "      <td>4</td>\n",
              "      <td>Get Shorty (1995)</td>\n",
              "    </tr>\n",
              "    <tr>\n",
              "      <th>4</th>\n",
              "      <td>5</td>\n",
              "      <td>Copycat (1995)</td>\n",
              "    </tr>\n",
              "  </tbody>\n",
              "</table>\n",
              "</div>\n",
              "      <button class=\"colab-df-convert\" onclick=\"convertToInteractive('df-227223c6-46cf-4910-8906-ce6851047498')\"\n",
              "              title=\"Convert this dataframe to an interactive table.\"\n",
              "              style=\"display:none;\">\n",
              "        \n",
              "  <svg xmlns=\"http://www.w3.org/2000/svg\" height=\"24px\"viewBox=\"0 0 24 24\"\n",
              "       width=\"24px\">\n",
              "    <path d=\"M0 0h24v24H0V0z\" fill=\"none\"/>\n",
              "    <path d=\"M18.56 5.44l.94 2.06.94-2.06 2.06-.94-2.06-.94-.94-2.06-.94 2.06-2.06.94zm-11 1L8.5 8.5l.94-2.06 2.06-.94-2.06-.94L8.5 2.5l-.94 2.06-2.06.94zm10 10l.94 2.06.94-2.06 2.06-.94-2.06-.94-.94-2.06-.94 2.06-2.06.94z\"/><path d=\"M17.41 7.96l-1.37-1.37c-.4-.4-.92-.59-1.43-.59-.52 0-1.04.2-1.43.59L10.3 9.45l-7.72 7.72c-.78.78-.78 2.05 0 2.83L4 21.41c.39.39.9.59 1.41.59.51 0 1.02-.2 1.41-.59l7.78-7.78 2.81-2.81c.8-.78.8-2.07 0-2.86zM5.41 20L4 18.59l7.72-7.72 1.47 1.35L5.41 20z\"/>\n",
              "  </svg>\n",
              "      </button>\n",
              "      \n",
              "  <style>\n",
              "    .colab-df-container {\n",
              "      display:flex;\n",
              "      flex-wrap:wrap;\n",
              "      gap: 12px;\n",
              "    }\n",
              "\n",
              "    .colab-df-convert {\n",
              "      background-color: #E8F0FE;\n",
              "      border: none;\n",
              "      border-radius: 50%;\n",
              "      cursor: pointer;\n",
              "      display: none;\n",
              "      fill: #1967D2;\n",
              "      height: 32px;\n",
              "      padding: 0 0 0 0;\n",
              "      width: 32px;\n",
              "    }\n",
              "\n",
              "    .colab-df-convert:hover {\n",
              "      background-color: #E2EBFA;\n",
              "      box-shadow: 0px 1px 2px rgba(60, 64, 67, 0.3), 0px 1px 3px 1px rgba(60, 64, 67, 0.15);\n",
              "      fill: #174EA6;\n",
              "    }\n",
              "\n",
              "    [theme=dark] .colab-df-convert {\n",
              "      background-color: #3B4455;\n",
              "      fill: #D2E3FC;\n",
              "    }\n",
              "\n",
              "    [theme=dark] .colab-df-convert:hover {\n",
              "      background-color: #434B5C;\n",
              "      box-shadow: 0px 1px 3px 1px rgba(0, 0, 0, 0.15);\n",
              "      filter: drop-shadow(0px 1px 2px rgba(0, 0, 0, 0.3));\n",
              "      fill: #FFFFFF;\n",
              "    }\n",
              "  </style>\n",
              "\n",
              "      <script>\n",
              "        const buttonEl =\n",
              "          document.querySelector('#df-227223c6-46cf-4910-8906-ce6851047498 button.colab-df-convert');\n",
              "        buttonEl.style.display =\n",
              "          google.colab.kernel.accessAllowed ? 'block' : 'none';\n",
              "\n",
              "        async function convertToInteractive(key) {\n",
              "          const element = document.querySelector('#df-227223c6-46cf-4910-8906-ce6851047498');\n",
              "          const dataTable =\n",
              "            await google.colab.kernel.invokeFunction('convertToInteractive',\n",
              "                                                     [key], {});\n",
              "          if (!dataTable) return;\n",
              "\n",
              "          const docLinkHtml = 'Like what you see? Visit the ' +\n",
              "            '<a target=\"_blank\" href=https://colab.research.google.com/notebooks/data_table.ipynb>data table notebook</a>'\n",
              "            + ' to learn more about interactive tables.';\n",
              "          element.innerHTML = '';\n",
              "          dataTable['output_type'] = 'display_data';\n",
              "          await google.colab.output.renderOutput(dataTable, element);\n",
              "          const docLink = document.createElement('div');\n",
              "          docLink.innerHTML = docLinkHtml;\n",
              "          element.appendChild(docLink);\n",
              "        }\n",
              "      </script>\n",
              "    </div>\n",
              "  </div>\n",
              "  "
            ]
          },
          "metadata": {},
          "execution_count": 29
        }
      ]
    },
    {
      "cell_type": "markdown",
      "metadata": {
        "id": "g11IQqmd5KGR"
      },
      "source": [
        "Next we merge it to our ratings table:"
      ]
    },
    {
      "cell_type": "code",
      "metadata": {
        "id": "eZmPTq285KGT",
        "colab": {
          "base_uri": "https://localhost:8080/",
          "height": 206
        },
        "outputId": "9a1ceac4-ec7a-40d4-c325-9e7a6c4e1c3d"
      },
      "source": [
        "ratings = ratings.merge(movies)\n",
        "ratings.head()"
      ],
      "execution_count": 30,
      "outputs": [
        {
          "output_type": "execute_result",
          "data": {
            "text/plain": [
              "   user  movie  rating         title\n",
              "0   196    242       3  Kolya (1996)\n",
              "1    63    242       3  Kolya (1996)\n",
              "2   226    242       5  Kolya (1996)\n",
              "3   154    242       3  Kolya (1996)\n",
              "4   306    242       5  Kolya (1996)"
            ],
            "text/html": [
              "\n",
              "  <div id=\"df-c8c7279d-3190-41fc-87f1-7cbf9a0e8390\">\n",
              "    <div class=\"colab-df-container\">\n",
              "      <div>\n",
              "<style scoped>\n",
              "    .dataframe tbody tr th:only-of-type {\n",
              "        vertical-align: middle;\n",
              "    }\n",
              "\n",
              "    .dataframe tbody tr th {\n",
              "        vertical-align: top;\n",
              "    }\n",
              "\n",
              "    .dataframe thead th {\n",
              "        text-align: right;\n",
              "    }\n",
              "</style>\n",
              "<table border=\"1\" class=\"dataframe\">\n",
              "  <thead>\n",
              "    <tr style=\"text-align: right;\">\n",
              "      <th></th>\n",
              "      <th>user</th>\n",
              "      <th>movie</th>\n",
              "      <th>rating</th>\n",
              "      <th>title</th>\n",
              "    </tr>\n",
              "  </thead>\n",
              "  <tbody>\n",
              "    <tr>\n",
              "      <th>0</th>\n",
              "      <td>196</td>\n",
              "      <td>242</td>\n",
              "      <td>3</td>\n",
              "      <td>Kolya (1996)</td>\n",
              "    </tr>\n",
              "    <tr>\n",
              "      <th>1</th>\n",
              "      <td>63</td>\n",
              "      <td>242</td>\n",
              "      <td>3</td>\n",
              "      <td>Kolya (1996)</td>\n",
              "    </tr>\n",
              "    <tr>\n",
              "      <th>2</th>\n",
              "      <td>226</td>\n",
              "      <td>242</td>\n",
              "      <td>5</td>\n",
              "      <td>Kolya (1996)</td>\n",
              "    </tr>\n",
              "    <tr>\n",
              "      <th>3</th>\n",
              "      <td>154</td>\n",
              "      <td>242</td>\n",
              "      <td>3</td>\n",
              "      <td>Kolya (1996)</td>\n",
              "    </tr>\n",
              "    <tr>\n",
              "      <th>4</th>\n",
              "      <td>306</td>\n",
              "      <td>242</td>\n",
              "      <td>5</td>\n",
              "      <td>Kolya (1996)</td>\n",
              "    </tr>\n",
              "  </tbody>\n",
              "</table>\n",
              "</div>\n",
              "      <button class=\"colab-df-convert\" onclick=\"convertToInteractive('df-c8c7279d-3190-41fc-87f1-7cbf9a0e8390')\"\n",
              "              title=\"Convert this dataframe to an interactive table.\"\n",
              "              style=\"display:none;\">\n",
              "        \n",
              "  <svg xmlns=\"http://www.w3.org/2000/svg\" height=\"24px\"viewBox=\"0 0 24 24\"\n",
              "       width=\"24px\">\n",
              "    <path d=\"M0 0h24v24H0V0z\" fill=\"none\"/>\n",
              "    <path d=\"M18.56 5.44l.94 2.06.94-2.06 2.06-.94-2.06-.94-.94-2.06-.94 2.06-2.06.94zm-11 1L8.5 8.5l.94-2.06 2.06-.94-2.06-.94L8.5 2.5l-.94 2.06-2.06.94zm10 10l.94 2.06.94-2.06 2.06-.94-2.06-.94-.94-2.06-.94 2.06-2.06.94z\"/><path d=\"M17.41 7.96l-1.37-1.37c-.4-.4-.92-.59-1.43-.59-.52 0-1.04.2-1.43.59L10.3 9.45l-7.72 7.72c-.78.78-.78 2.05 0 2.83L4 21.41c.39.39.9.59 1.41.59.51 0 1.02-.2 1.41-.59l7.78-7.78 2.81-2.81c.8-.78.8-2.07 0-2.86zM5.41 20L4 18.59l7.72-7.72 1.47 1.35L5.41 20z\"/>\n",
              "  </svg>\n",
              "      </button>\n",
              "      \n",
              "  <style>\n",
              "    .colab-df-container {\n",
              "      display:flex;\n",
              "      flex-wrap:wrap;\n",
              "      gap: 12px;\n",
              "    }\n",
              "\n",
              "    .colab-df-convert {\n",
              "      background-color: #E8F0FE;\n",
              "      border: none;\n",
              "      border-radius: 50%;\n",
              "      cursor: pointer;\n",
              "      display: none;\n",
              "      fill: #1967D2;\n",
              "      height: 32px;\n",
              "      padding: 0 0 0 0;\n",
              "      width: 32px;\n",
              "    }\n",
              "\n",
              "    .colab-df-convert:hover {\n",
              "      background-color: #E2EBFA;\n",
              "      box-shadow: 0px 1px 2px rgba(60, 64, 67, 0.3), 0px 1px 3px 1px rgba(60, 64, 67, 0.15);\n",
              "      fill: #174EA6;\n",
              "    }\n",
              "\n",
              "    [theme=dark] .colab-df-convert {\n",
              "      background-color: #3B4455;\n",
              "      fill: #D2E3FC;\n",
              "    }\n",
              "\n",
              "    [theme=dark] .colab-df-convert:hover {\n",
              "      background-color: #434B5C;\n",
              "      box-shadow: 0px 1px 3px 1px rgba(0, 0, 0, 0.15);\n",
              "      filter: drop-shadow(0px 1px 2px rgba(0, 0, 0, 0.3));\n",
              "      fill: #FFFFFF;\n",
              "    }\n",
              "  </style>\n",
              "\n",
              "      <script>\n",
              "        const buttonEl =\n",
              "          document.querySelector('#df-c8c7279d-3190-41fc-87f1-7cbf9a0e8390 button.colab-df-convert');\n",
              "        buttonEl.style.display =\n",
              "          google.colab.kernel.accessAllowed ? 'block' : 'none';\n",
              "\n",
              "        async function convertToInteractive(key) {\n",
              "          const element = document.querySelector('#df-c8c7279d-3190-41fc-87f1-7cbf9a0e8390');\n",
              "          const dataTable =\n",
              "            await google.colab.kernel.invokeFunction('convertToInteractive',\n",
              "                                                     [key], {});\n",
              "          if (!dataTable) return;\n",
              "\n",
              "          const docLinkHtml = 'Like what you see? Visit the ' +\n",
              "            '<a target=\"_blank\" href=https://colab.research.google.com/notebooks/data_table.ipynb>data table notebook</a>'\n",
              "            + ' to learn more about interactive tables.';\n",
              "          element.innerHTML = '';\n",
              "          dataTable['output_type'] = 'display_data';\n",
              "          await google.colab.output.renderOutput(dataTable, element);\n",
              "          const docLink = document.createElement('div');\n",
              "          docLink.innerHTML = docLinkHtml;\n",
              "          element.appendChild(docLink);\n",
              "        }\n",
              "      </script>\n",
              "    </div>\n",
              "  </div>\n",
              "  "
            ]
          },
          "metadata": {},
          "execution_count": 30
        }
      ]
    },
    {
      "cell_type": "markdown",
      "metadata": {
        "id": "PksImdkw5KGV"
      },
      "source": [
        "We can then build a `DataLoaders` object from this table. By default, it takes the first column for user, the second column for the item (here our movies) and the third column for the ratings. We need to change the value of `item_name` in our case, to use the titles instead of the ids:"
      ]
    },
    {
      "cell_type": "code",
      "metadata": {
        "id": "OV-H74uh5KGV"
      },
      "source": [
        "dls = CollabDataLoaders.from_df(ratings, item_name='title', bs=64)"
      ],
      "execution_count": 31,
      "outputs": []
    },
    {
      "cell_type": "markdown",
      "metadata": {
        "id": "nyK3Sy9L5KGW"
      },
      "source": [
        "In all applications, when the data has been assembled in a `DataLoaders`, you can have a look at it with the `show_batch` method:"
      ]
    },
    {
      "cell_type": "code",
      "metadata": {
        "id": "U07N7Tue5KGW",
        "colab": {
          "base_uri": "https://localhost:8080/",
          "height": 362
        },
        "outputId": "4df0a7d0-80d3-421e-a550-e0f29d405786"
      },
      "source": [
        "dls.show_batch()"
      ],
      "execution_count": 32,
      "outputs": [
        {
          "output_type": "display_data",
          "data": {
            "text/plain": [
              "<IPython.core.display.HTML object>"
            ],
            "text/html": [
              "<table border=\"1\" class=\"dataframe\">\n",
              "  <thead>\n",
              "    <tr style=\"text-align: right;\">\n",
              "      <th></th>\n",
              "      <th>user</th>\n",
              "      <th>title</th>\n",
              "      <th>rating</th>\n",
              "    </tr>\n",
              "  </thead>\n",
              "  <tbody>\n",
              "    <tr>\n",
              "      <th>0</th>\n",
              "      <td>655</td>\n",
              "      <td>Cable Guy, The (1996)</td>\n",
              "      <td>2</td>\n",
              "    </tr>\n",
              "    <tr>\n",
              "      <th>1</th>\n",
              "      <td>16</td>\n",
              "      <td>Rear Window (1954)</td>\n",
              "      <td>5</td>\n",
              "    </tr>\n",
              "    <tr>\n",
              "      <th>2</th>\n",
              "      <td>522</td>\n",
              "      <td>Shining, The (1980)</td>\n",
              "      <td>4</td>\n",
              "    </tr>\n",
              "    <tr>\n",
              "      <th>3</th>\n",
              "      <td>326</td>\n",
              "      <td>Princess Bride, The (1987)</td>\n",
              "      <td>5</td>\n",
              "    </tr>\n",
              "    <tr>\n",
              "      <th>4</th>\n",
              "      <td>215</td>\n",
              "      <td>M*A*S*H (1970)</td>\n",
              "      <td>4</td>\n",
              "    </tr>\n",
              "    <tr>\n",
              "      <th>5</th>\n",
              "      <td>370</td>\n",
              "      <td>Raise the Red Lantern (1991)</td>\n",
              "      <td>4</td>\n",
              "    </tr>\n",
              "    <tr>\n",
              "      <th>6</th>\n",
              "      <td>177</td>\n",
              "      <td>Grifters, The (1990)</td>\n",
              "      <td>4</td>\n",
              "    </tr>\n",
              "    <tr>\n",
              "      <th>7</th>\n",
              "      <td>846</td>\n",
              "      <td>Harold and Maude (1971)</td>\n",
              "      <td>3</td>\n",
              "    </tr>\n",
              "    <tr>\n",
              "      <th>8</th>\n",
              "      <td>116</td>\n",
              "      <td>Great Expectations (1998)</td>\n",
              "      <td>2</td>\n",
              "    </tr>\n",
              "    <tr>\n",
              "      <th>9</th>\n",
              "      <td>318</td>\n",
              "      <td>Mother (1996)</td>\n",
              "      <td>4</td>\n",
              "    </tr>\n",
              "  </tbody>\n",
              "</table>"
            ]
          },
          "metadata": {}
        }
      ]
    },
    {
      "cell_type": "markdown",
      "metadata": {
        "id": "cMiAsrvW5KGY"
      },
      "source": [
        "fastai can create and train a collaborative filtering model by using `collab_learner`:"
      ]
    },
    {
      "cell_type": "code",
      "metadata": {
        "id": "0rXePHqS5KGY"
      },
      "source": [
        "learn = collab_learner(dls, n_factors=50, y_range=(0, 5.5))"
      ],
      "execution_count": 33,
      "outputs": []
    },
    {
      "cell_type": "markdown",
      "metadata": {
        "id": "58blYToq5KGY"
      },
      "source": [
        "It uses a simple dot product model with 50 latent factors. To train it using the 1cycle policy, we just run this command:"
      ]
    },
    {
      "cell_type": "code",
      "metadata": {
        "id": "ze2sG7Pd5KGZ",
        "colab": {
          "base_uri": "https://localhost:8080/",
          "height": 206
        },
        "outputId": "792dc0fc-9107-44b9-dea8-2a7647eebff0"
      },
      "source": [
        "learn.fit_one_cycle(5, 5e-3, wd=0.1)"
      ],
      "execution_count": 34,
      "outputs": [
        {
          "output_type": "display_data",
          "data": {
            "text/plain": [
              "<IPython.core.display.HTML object>"
            ],
            "text/html": [
              "\n",
              "<style>\n",
              "    /* Turns off some styling */\n",
              "    progress {\n",
              "        /* gets rid of default border in Firefox and Opera. */\n",
              "        border: none;\n",
              "        /* Needs to be in here for Safari polyfill so background images work as expected. */\n",
              "        background-size: auto;\n",
              "    }\n",
              "    progress:not([value]), progress:not([value])::-webkit-progress-bar {\n",
              "        background: repeating-linear-gradient(45deg, #7e7e7e, #7e7e7e 10px, #5c5c5c 10px, #5c5c5c 20px);\n",
              "    }\n",
              "    .progress-bar-interrupted, .progress-bar-interrupted::-webkit-progress-bar {\n",
              "        background: #F44336;\n",
              "    }\n",
              "</style>\n"
            ]
          },
          "metadata": {}
        },
        {
          "output_type": "display_data",
          "data": {
            "text/plain": [
              "<IPython.core.display.HTML object>"
            ],
            "text/html": [
              "<table border=\"1\" class=\"dataframe\">\n",
              "  <thead>\n",
              "    <tr style=\"text-align: left;\">\n",
              "      <th>epoch</th>\n",
              "      <th>train_loss</th>\n",
              "      <th>valid_loss</th>\n",
              "      <th>time</th>\n",
              "    </tr>\n",
              "  </thead>\n",
              "  <tbody>\n",
              "    <tr>\n",
              "      <td>0</td>\n",
              "      <td>0.921455</td>\n",
              "      <td>0.949414</td>\n",
              "      <td>00:08</td>\n",
              "    </tr>\n",
              "    <tr>\n",
              "      <td>1</td>\n",
              "      <td>0.839034</td>\n",
              "      <td>0.859294</td>\n",
              "      <td>00:18</td>\n",
              "    </tr>\n",
              "    <tr>\n",
              "      <td>2</td>\n",
              "      <td>0.745011</td>\n",
              "      <td>0.825676</td>\n",
              "      <td>00:09</td>\n",
              "    </tr>\n",
              "    <tr>\n",
              "      <td>3</td>\n",
              "      <td>0.606789</td>\n",
              "      <td>0.815299</td>\n",
              "      <td>00:07</td>\n",
              "    </tr>\n",
              "    <tr>\n",
              "      <td>4</td>\n",
              "      <td>0.494014</td>\n",
              "      <td>0.815623</td>\n",
              "      <td>00:07</td>\n",
              "    </tr>\n",
              "  </tbody>\n",
              "</table>"
            ]
          },
          "metadata": {}
        }
      ]
    },
    {
      "cell_type": "markdown",
      "metadata": {
        "id": "uXpc4wrh5KGZ"
      },
      "source": [
        "Here's [some benchmarks](https://www.librec.net/release/v1.3/example.html) on the same dataset for the popular Librec system for collaborative filtering. They show best results based on RMSE of 0.91 (scroll down to the 100k dataset), which corresponds to an MSE of `0.91**2 = 0.83`. So in less than a minute, we got pretty good results!"
      ]
    },
    {
      "cell_type": "markdown",
      "metadata": {
        "id": "GNlR8PdV5KGa"
      },
      "source": [
        "### Interpretation"
      ]
    },
    {
      "cell_type": "markdown",
      "metadata": {
        "id": "-Kp8v39y5KGa"
      },
      "source": [
        "Let's analyze the results of our previous model. We will keep the 1000 most rated movies for this:"
      ]
    },
    {
      "cell_type": "code",
      "metadata": {
        "id": "dOBM1Dmn5KGa",
        "colab": {
          "base_uri": "https://localhost:8080/"
        },
        "outputId": "138d40bb-4231-46d6-f327-72bb280d8a7e"
      },
      "source": [
        "g = ratings.groupby('title')['rating'].count()\n",
        "top_movies = g.sort_values(ascending=False).index.values[:1000]\n",
        "top_movies[:10]"
      ],
      "execution_count": 35,
      "outputs": [
        {
          "output_type": "execute_result",
          "data": {
            "text/plain": [
              "array(['Star Wars (1977)', 'Contact (1997)', 'Fargo (1996)',\n",
              "       'Return of the Jedi (1983)', 'Liar Liar (1997)',\n",
              "       'English Patient, The (1996)', 'Scream (1996)', 'Toy Story (1995)',\n",
              "       'Air Force One (1997)', 'Independence Day (ID4) (1996)'],\n",
              "      dtype=object)"
            ]
          },
          "metadata": {},
          "execution_count": 35
        }
      ]
    },
    {
      "cell_type": "markdown",
      "metadata": {
        "id": "iT0TUZeV5KGa"
      },
      "source": [
        "### Movie bias"
      ]
    },
    {
      "cell_type": "markdown",
      "metadata": {
        "id": "QTfd24Ce5KGb"
      },
      "source": [
        "Our model has learned one bias per movie, a unique number independent of users that can be interpreted as the intrinsic \"value\" of the movie. We can grab the bias of each movie in our `top_movies` list with the following command:"
      ]
    },
    {
      "cell_type": "code",
      "metadata": {
        "id": "Q6_3vygf5KGb",
        "colab": {
          "base_uri": "https://localhost:8080/"
        },
        "outputId": "74baa032-af03-4e9e-c819-5851626c901e"
      },
      "source": [
        "movie_bias = learn.model.bias(top_movies, is_item=True)\n",
        "movie_bias.shape"
      ],
      "execution_count": 36,
      "outputs": [
        {
          "output_type": "execute_result",
          "data": {
            "text/plain": [
              "torch.Size([1000])"
            ]
          },
          "metadata": {},
          "execution_count": 36
        }
      ]
    },
    {
      "cell_type": "markdown",
      "metadata": {
        "id": "4LWSBSXB5KGb"
      },
      "source": [
        "Let's compare those biases with the average ratings:"
      ]
    },
    {
      "cell_type": "code",
      "metadata": {
        "id": "b-cmUxrz5KGc"
      },
      "source": [
        "mean_ratings = ratings.groupby('title')['rating'].mean()\n",
        "movie_ratings = [(b, i, mean_ratings.loc[i]) for i,b in zip(top_movies,movie_bias)]"
      ],
      "execution_count": 37,
      "outputs": []
    },
    {
      "cell_type": "markdown",
      "metadata": {
        "id": "nQ9NpRIY5KGd"
      },
      "source": [
        "Now let's have a look at the movies with the worst bias:"
      ]
    },
    {
      "cell_type": "code",
      "metadata": {
        "id": "sPK_3uoL5KGe",
        "colab": {
          "base_uri": "https://localhost:8080/"
        },
        "outputId": "0e8be173-62df-4f56-d7bb-a15f36609f24"
      },
      "source": [
        "item0 = lambda o:o[0]\n",
        "sorted(movie_ratings, key=item0)[:15]"
      ],
      "execution_count": 38,
      "outputs": [
        {
          "output_type": "execute_result",
          "data": {
            "text/plain": [
              "[(tensor(-0.3809),\n",
              "  'Children of the Corn: The Gathering (1996)',\n",
              "  1.3157894736842106),\n",
              " (tensor(-0.3161),\n",
              "  'Lawnmower Man 2: Beyond Cyberspace (1996)',\n",
              "  1.7142857142857142),\n",
              " (tensor(-0.2687), 'Cable Guy, The (1996)', 2.339622641509434),\n",
              " (tensor(-0.2606), 'Free Willy 3: The Rescue (1997)', 1.7407407407407407),\n",
              " (tensor(-0.2500), \"McHale's Navy (1997)\", 2.1884057971014492),\n",
              " (tensor(-0.2446), 'Bio-Dome (1996)', 1.903225806451613),\n",
              " (tensor(-0.2404), 'Crow: City of Angels, The (1996)', 1.9487179487179487),\n",
              " (tensor(-0.2365), 'Mortal Kombat: Annihilation (1997)', 1.9534883720930232),\n",
              " (tensor(-0.2308), 'Island of Dr. Moreau, The (1996)', 2.1578947368421053),\n",
              " (tensor(-0.2284), 'Barb Wire (1996)', 1.9333333333333333),\n",
              " (tensor(-0.2275), 'Thinner (1996)', 2.4489795918367347),\n",
              " (tensor(-0.2262), 'Stupids, The (1996)', 2.0),\n",
              " (tensor(-0.2208), \"Stephen King's The Langoliers (1995)\", 2.413793103448276),\n",
              " (tensor(-0.2193), \"Joe's Apartment (1996)\", 2.2444444444444445),\n",
              " (tensor(-0.2162), 'Leave It to Beaver (1997)', 1.8409090909090908)]"
            ]
          },
          "metadata": {},
          "execution_count": 38
        }
      ]
    },
    {
      "cell_type": "markdown",
      "metadata": {
        "id": "hyZduCwf5KGf"
      },
      "source": [
        "Or the ones with the best bias:"
      ]
    },
    {
      "cell_type": "code",
      "metadata": {
        "id": "la5TBDHx5KGg",
        "colab": {
          "base_uri": "https://localhost:8080/"
        },
        "outputId": "d2167c00-9582-4b6b-e5a4-84eaacdfbe19"
      },
      "source": [
        "sorted(movie_ratings, key=lambda o: o[0], reverse=True)[:15]"
      ],
      "execution_count": 39,
      "outputs": [
        {
          "output_type": "execute_result",
          "data": {
            "text/plain": [
              "[(tensor(0.5770), \"Schindler's List (1993)\", 4.466442953020135),\n",
              " (tensor(0.5395), 'Titanic (1997)', 4.2457142857142856),\n",
              " (tensor(0.5319), 'L.A. Confidential (1997)', 4.161616161616162),\n",
              " (tensor(0.5177), 'Silence of the Lambs, The (1991)', 4.28974358974359),\n",
              " (tensor(0.5170), 'Good Will Hunting (1997)', 4.262626262626263),\n",
              " (tensor(0.5133), 'Vertigo (1958)', 4.251396648044692),\n",
              " (tensor(0.5112), 'Shawshank Redemption, The (1994)', 4.445229681978798),\n",
              " (tensor(0.5079), 'Star Wars (1977)', 4.3584905660377355),\n",
              " (tensor(0.4993), 'Usual Suspects, The (1995)', 4.385767790262173),\n",
              " (tensor(0.4713), 'Rear Window (1954)', 4.3875598086124405),\n",
              " (tensor(0.4599), 'As Good As It Gets (1997)', 4.196428571428571),\n",
              " (tensor(0.4598), 'Casablanca (1942)', 4.45679012345679),\n",
              " (tensor(0.4579), 'Apt Pupil (1998)', 4.1),\n",
              " (tensor(0.4564), 'Boot, Das (1981)', 4.203980099502488),\n",
              " (tensor(0.4482), \"One Flew Over the Cuckoo's Nest (1975)\", 4.291666666666667)]"
            ]
          },
          "metadata": {},
          "execution_count": 39
        }
      ]
    },
    {
      "cell_type": "markdown",
      "metadata": {
        "id": "6evHscZk5KGh"
      },
      "source": [
        "There is certainly a strong correlation!"
      ]
    },
    {
      "cell_type": "markdown",
      "metadata": {
        "id": "_eVUbKjL5KGi"
      },
      "source": [
        "### Movie weights"
      ]
    },
    {
      "cell_type": "markdown",
      "metadata": {
        "id": "rfpKAgSC5KGi"
      },
      "source": [
        "Now let's try to analyze the latent factors our model has learned. We can grab the weights for each movie in `top_movies` the same way as we did for the bias before."
      ]
    },
    {
      "cell_type": "code",
      "metadata": {
        "id": "deDn2gcH5KGj",
        "colab": {
          "base_uri": "https://localhost:8080/"
        },
        "outputId": "bed23feb-6e76-4098-dacb-46d529aea3cc"
      },
      "source": [
        "movie_w = learn.model.weight(top_movies, is_item=True)\n",
        "movie_w.shape"
      ],
      "execution_count": 40,
      "outputs": [
        {
          "output_type": "execute_result",
          "data": {
            "text/plain": [
              "torch.Size([1000, 50])"
            ]
          },
          "metadata": {},
          "execution_count": 40
        }
      ]
    },
    {
      "cell_type": "markdown",
      "metadata": {
        "id": "NMKR-0Um5KGj"
      },
      "source": [
        "Let's try a PCA to reduce the dimensions and see if we can see what the model learned:"
      ]
    },
    {
      "cell_type": "code",
      "metadata": {
        "id": "7eaYCuVt5KGk",
        "colab": {
          "base_uri": "https://localhost:8080/"
        },
        "outputId": "ae952362-3f7e-413d-8d24-46890e110fb7"
      },
      "source": [
        "movie_pca = movie_w.pca(3)\n",
        "movie_pca.shape"
      ],
      "execution_count": 41,
      "outputs": [
        {
          "output_type": "execute_result",
          "data": {
            "text/plain": [
              "torch.Size([1000, 3])"
            ]
          },
          "metadata": {},
          "execution_count": 41
        }
      ]
    },
    {
      "cell_type": "code",
      "metadata": {
        "id": "gP8YQMM55KGl"
      },
      "source": [
        "fac0,fac1,fac2 = movie_pca.t()\n",
        "movie_comp = [(f, i) for f,i in zip(fac0, top_movies)]"
      ],
      "execution_count": 42,
      "outputs": []
    },
    {
      "cell_type": "markdown",
      "metadata": {
        "id": "MRscjh3K5KGl"
      },
      "source": [
        "Here are the highest score on the first dimension:"
      ]
    },
    {
      "cell_type": "code",
      "metadata": {
        "id": "L74WWxjA5KGl",
        "colab": {
          "base_uri": "https://localhost:8080/"
        },
        "outputId": "e79f88bf-2afe-4e00-fd28-9264f2d2c3a7"
      },
      "source": [
        "sorted(movie_comp, key=itemgetter(0), reverse=True)[:10]"
      ],
      "execution_count": 43,
      "outputs": [
        {
          "output_type": "execute_result",
          "data": {
            "text/plain": [
              "[(tensor(1.1348), 'Close Shave, A (1995)'),\n",
              " (tensor(1.1183), 'Chinatown (1974)'),\n",
              " (tensor(1.1177), 'Third Man, The (1949)'),\n",
              " (tensor(1.0522), 'Casablanca (1942)'),\n",
              " (tensor(1.0169), 'Wrong Trousers, The (1993)'),\n",
              " (tensor(1.0076), 'Citizen Kane (1941)'),\n",
              " (tensor(0.9825), 'Manchurian Candidate, The (1962)'),\n",
              " (tensor(0.9787), '12 Angry Men (1957)'),\n",
              " (tensor(0.9786), 'Eat Drink Man Woman (1994)'),\n",
              " (tensor(0.9768), 'Rear Window (1954)')]"
            ]
          },
          "metadata": {},
          "execution_count": 43
        }
      ]
    },
    {
      "cell_type": "markdown",
      "metadata": {
        "id": "XMS1ASOm5KGm"
      },
      "source": [
        "And the worst:"
      ]
    },
    {
      "cell_type": "code",
      "metadata": {
        "id": "kDxgTWUW5KGm",
        "colab": {
          "base_uri": "https://localhost:8080/"
        },
        "outputId": "ec93603c-66ec-4fee-c8c4-d6d9869ac36c"
      },
      "source": [
        "sorted(movie_comp, key=itemgetter(0))[:10]"
      ],
      "execution_count": 44,
      "outputs": [
        {
          "output_type": "execute_result",
          "data": {
            "text/plain": [
              "[(tensor(-1.2502), 'Home Alone 3 (1997)'),\n",
              " (tensor(-1.2283), 'Jungle2Jungle (1997)'),\n",
              " (tensor(-1.2282), \"McHale's Navy (1997)\"),\n",
              " (tensor(-1.1418), 'Children of the Corn: The Gathering (1996)'),\n",
              " (tensor(-1.0789), 'Bio-Dome (1996)'),\n",
              " (tensor(-1.0610), 'Congo (1995)'),\n",
              " (tensor(-1.0535), 'Grease 2 (1982)'),\n",
              " (tensor(-1.0432), 'Batman & Robin (1997)'),\n",
              " (tensor(-1.0406), 'D3: The Mighty Ducks (1996)'),\n",
              " (tensor(-1.0322), 'Leave It to Beaver (1997)')]"
            ]
          },
          "metadata": {},
          "execution_count": 44
        }
      ]
    },
    {
      "cell_type": "markdown",
      "metadata": {
        "id": "JXZyCaJL5KGn"
      },
      "source": [
        "Same thing for our second dimension:"
      ]
    },
    {
      "cell_type": "code",
      "metadata": {
        "id": "0JR6BnTn5KGn"
      },
      "source": [
        "movie_comp = [(f, i) for f,i in zip(fac1, top_movies)]"
      ],
      "execution_count": 45,
      "outputs": []
    },
    {
      "cell_type": "code",
      "metadata": {
        "id": "xj4_P5dS5KGn",
        "colab": {
          "base_uri": "https://localhost:8080/"
        },
        "outputId": "938efe3d-a6e3-46d3-c1b2-d4d18621a7a7"
      },
      "source": [
        "sorted(movie_comp, key=itemgetter(0), reverse=True)[:10]"
      ],
      "execution_count": 46,
      "outputs": [
        {
          "output_type": "execute_result",
          "data": {
            "text/plain": [
              "[(tensor(0.8496), 'Serial Mom (1994)'),\n",
              " (tensor(0.8489), 'Keys to Tulsa (1997)'),\n",
              " (tensor(0.8188), 'Trainspotting (1996)'),\n",
              " (tensor(0.7913), 'Clockwork Orange, A (1971)'),\n",
              " (tensor(0.7872), 'Dead Man (1995)'),\n",
              " (tensor(0.7843), 'Stupids, The (1996)'),\n",
              " (tensor(0.7683), 'Cook the Thief His Wife & Her Lover, The (1989)'),\n",
              " (tensor(0.7631), 'Beavis and Butt-head Do America (1996)'),\n",
              " (tensor(0.7495), 'Jude (1996)'),\n",
              " (tensor(0.7280), 'Blue in the Face (1995)')]"
            ]
          },
          "metadata": {},
          "execution_count": 46
        }
      ]
    },
    {
      "cell_type": "code",
      "metadata": {
        "id": "28K9s9Rp5KGo",
        "colab": {
          "base_uri": "https://localhost:8080/"
        },
        "outputId": "40ff40a7-13ab-4069-c39c-96949cc7fa6d"
      },
      "source": [
        "sorted(movie_comp, key=itemgetter(0))[:10]"
      ],
      "execution_count": 47,
      "outputs": [
        {
          "output_type": "execute_result",
          "data": {
            "text/plain": [
              "[(tensor(-1.0680), 'Braveheart (1995)'),\n",
              " (tensor(-1.0624), 'Titanic (1997)'),\n",
              " (tensor(-1.0027), 'Raiders of the Lost Ark (1981)'),\n",
              " (tensor(-0.8932), 'American President, The (1995)'),\n",
              " (tensor(-0.8884), 'Return of the Jedi (1983)'),\n",
              " (tensor(-0.8416), 'Independence Day (ID4) (1996)'),\n",
              " (tensor(-0.8393), 'Forrest Gump (1994)'),\n",
              " (tensor(-0.8341), 'Hunt for Red October, The (1990)'),\n",
              " (tensor(-0.8327), \"Mr. Holland's Opus (1995)\"),\n",
              " (tensor(-0.8310), 'Top Gun (1986)')]"
            ]
          },
          "metadata": {},
          "execution_count": 47
        }
      ]
    },
    {
      "cell_type": "markdown",
      "metadata": {
        "id": "eZAynsWP5KGo"
      },
      "source": [
        "And we can even plot the movies according to their scores on those dimensions:"
      ]
    },
    {
      "cell_type": "code",
      "metadata": {
        "id": "fHtORCAp5KGp",
        "colab": {
          "base_uri": "https://localhost:8080/",
          "height": 863
        },
        "outputId": "9fb32ad0-61c5-4cf0-d078-2b4c3f800bc2"
      },
      "source": [
        "idxs = np.random.choice(len(top_movies), 50, replace=False)\n",
        "idxs = list(range(50))\n",
        "X = fac0[idxs]\n",
        "Y = fac2[idxs]\n",
        "plt.figure(figsize=(15,15))\n",
        "plt.scatter(X, Y)\n",
        "for i, x, y in zip(top_movies[idxs], X, Y):\n",
        "    plt.text(x,y,i, color=np.random.rand(3)*0.7, fontsize=11)\n",
        "plt.show()"
      ],
      "execution_count": 48,
      "outputs": [
        {
          "output_type": "display_data",
          "data": {
            "text/plain": [
              "<Figure size 1080x1080 with 1 Axes>"
            ],
            "image/png": "[encoded data removed]"
          },
          "metadata": {
            "needs_background": "light"
          }
        }
      ]
    }
  ]
}